{
 "cells": [
  {
   "cell_type": "markdown",
   "metadata": {},
   "source": [
    "# while循环\n",
    "- 一个循环语句\n",
    "- 表示当某个条件成立的时候，就循环\n",
    "- 不知道具体循环次数，但是我知道循环成立的条件的时候用while循环\n",
    "- while语法\n",
    "    - while 条件表达式：\n",
    "        语句块\n",
    "        \n",
    "    - 另外一种表达式\n",
    "        while 条件表达式：\n",
    "            语句块\n",
    "        else :\n",
    "            语句（只执行一次）"
   ]
  },
  {
   "cell_type": "code",
   "execution_count": 6,
   "metadata": {},
   "outputs": [
    {
     "name": "stdout",
     "output_type": "stream",
     "text": [
      "第 1 年拿了 106700.0 块钱\n",
      "第 2 年拿了 113848.9 块钱\n",
      "第 3 年拿了 121476.77629999998 块钱\n",
      "第 4 年拿了 129615.72031209998 块钱\n",
      "第 5 年拿了 138299.97357301068 块钱\n",
      "第 6 年拿了 147566.07180240238 块钱\n",
      "第 7 年拿了 157452.99861316333 块钱\n",
      "第 8 年拿了 168002.34952024528 块钱\n",
      "第 9 年拿了 179258.5069381017 块钱\n",
      "第 10 年拿了 191268.8269029545 块钱\n",
      "第 11 年拿了 204083.83830545243 块钱\n"
     ]
    }
   ],
   "source": [
    "# 如果说年利率为6.7%，本利是每年翻滚，则多少年后本钱会翻倍\n",
    "benqian = 100000\n",
    "year = 0\n",
    "while benqian < 200000:\n",
    "    benqian = benqian * (1+0.067)\n",
    "    year +=1\n",
    "    print(\"第 {0} 年拿了 {1} 块钱\".format(year,benqian))"
   ]
  },
  {
   "cell_type": "code",
   "execution_count": 7,
   "metadata": {},
   "outputs": [
    {
     "name": "stdout",
     "output_type": "stream",
     "text": [
      "第 1 年拿了 106700.0 块钱\n",
      "第 2 年拿了 113848.9 块钱\n",
      "第 3 年拿了 121476.77629999998 块钱\n",
      "第 4 年拿了 129615.72031209998 块钱\n",
      "第 5 年拿了 138299.97357301068 块钱\n",
      "第 6 年拿了 147566.07180240238 块钱\n",
      "第 7 年拿了 157452.99861316333 块钱\n",
      "第 8 年拿了 168002.34952024528 块钱\n",
      "第 9 年拿了 179258.5069381017 块钱\n",
      "第 10 年拿了 191268.8269029545 块钱\n",
      "第 11 年拿了 204083.83830545243 块钱\n",
      "二大爷的，终于翻倍了，11 多年了\n"
     ]
    }
   ],
   "source": [
    "benqian = 100000\n",
    "year = 0\n",
    "while benqian < 200000:\n",
    "    benqian = benqian * (1+0.067)\n",
    "    year +=1\n",
    "    print(\"第 {0} 年拿了 {1} 块钱\".format(year,benqian))\n",
    "else:\n",
    "    print(\"二大爷的，终于翻倍了，{0} 年了\".format(year))"
   ]
  },
  {
   "cell_type": "markdown",
   "metadata": {},
   "source": [
    "# 函数\n",
    "- 代码的一种组织形式\n",
    "- 一个函数 一般完成一个项定的功能\n",
    "- 函数的使用\n",
    "    - 需要先定义\n",
    "    - 使用函数，俗称调用\n"
   ]
  },
  {
   "cell_type": "code",
   "execution_count": 8,
   "metadata": {},
   "outputs": [],
   "source": [
    "# 定义一个函数\n",
    "# 只是定义一个函数它不会执行\n",
    "# 1.def 定义关键字，后面跟着一个空格\n",
    "# 2.函数名，自己定义，需要遵循命名规则，不能使用大驼峰\n",
    "# 3.后面的括号和冒号不能省略，括号内可以有参数\n",
    "# 4.函数内所有代码缩进\n",
    "def fun():\n",
    "    print(\"我是一个函数\")\n",
    "    print(\"我要完成一项功能\")\n",
    "    print(\"我结束了\")"
   ]
  },
  {
   "cell_type": "code",
   "execution_count": 9,
   "metadata": {},
   "outputs": [
    {
     "name": "stdout",
     "output_type": "stream",
     "text": [
      "我是一个函数\n",
      "我要完成一项功能\n",
      "我结束了\n"
     ]
    }
   ],
   "source": [
    "# 调用函数\n",
    "# 直接函数名后面跟着一个括号\n",
    "fun()"
   ]
  },
  {
   "cell_type": "markdown",
   "metadata": {},
   "source": [
    "### 函数的返回值和参数\n",
    "- 参数：负责给函数传递一些必要的信息或者数据\n",
    "    - 形参（形式参数）：在函数定义的时候得到的参数没有具体的值，只是一个占位符\n",
    "    - 实际参数：在调用函数时候输入的值\n",
    "- 返回值：函数的执行结果\n",
    "    - 使用return关键字\n",
    "    - 如果没有return，默认返回一个None\n",
    "    - 函数一旦执行return语句，则无条件返回，即结束函数的执行\n"
   ]
  },
  {
   "cell_type": "code",
   "execution_count": 10,
   "metadata": {},
   "outputs": [
    {
     "name": "stdout",
     "output_type": "stream",
     "text": [
      "明月,你肿么哦了\n",
      "Sir,你不理我就走了\n"
     ]
    }
   ],
   "source": [
    "# 参数的定义和使用\n",
    "# 参数person 只是一个符号，代表的是调用时候的某个数据\n",
    "# 调用的时候会用p的值代替所有的person\n",
    "#\n",
    "def hello(person):\n",
    "    print(\"{0},你肿么哦了\".format(person))\n",
    "    print(\"Sir,你不理我就走了\")\n",
    "\n",
    "p = \"明月\"\n",
    "hello(p)"
   ]
  },
  {
   "cell_type": "code",
   "execution_count": 11,
   "metadata": {},
   "outputs": [
    {
     "name": "stdout",
     "output_type": "stream",
     "text": [
      "明月,你肿么哦了\n",
      "Sir,你不理我就走了\n",
      "我已经跟明月打过招呼了，明月不理我\n"
     ]
    }
   ],
   "source": [
    "# return 语句的基本使用\n",
    "# 打完招呼以后返回一句话\n",
    "def hello(person):\n",
    "    print(\"{0},你肿么哦了\".format(person))\n",
    "    print(\"Sir,你不理我就走了\")\n",
    "    return \"我已经跟{0}打过招呼了，{1}不理我\".format(person,person)\n",
    "p = \"明月\"\n",
    "rst = hello(p)\n",
    "print(rst)"
   ]
  },
  {
   "cell_type": "code",
   "execution_count": 12,
   "metadata": {},
   "outputs": [
    {
     "name": "stdout",
     "output_type": "stream",
     "text": [
      "明月,你肿么哦了\n"
     ]
    }
   ],
   "source": [
    "# return案例2\n",
    "def hello(person):\n",
    "    print(\"{0},你肿么哦了\".format(person))\n",
    "    return \"哈哈哈，我提前结束了\"\n",
    "    print(\"Sir,你不理我就走了\")\n",
    "    return \"我已经跟{0}打过招呼了，{1}不理我\".format(person,person)\n",
    "p = \"明月\"\n",
    "rst = hello(p)"
   ]
  },
  {
   "cell_type": "code",
   "execution_count": null,
   "metadata": {},
   "outputs": [],
   "source": []
  }
 ],
 "metadata": {
  "kernelspec": {
   "display_name": "Python 3",
   "language": "python",
   "name": "python3"
  },
  "language_info": {
   "codemirror_mode": {
    "name": "ipython",
    "version": 3
   },
   "file_extension": ".py",
   "mimetype": "text/x-python",
   "name": "python",
   "nbconvert_exporter": "python",
   "pygments_lexer": "ipython3",
   "version": "3.7.0"
  }
 },
 "nbformat": 4,
 "nbformat_minor": 2
}
