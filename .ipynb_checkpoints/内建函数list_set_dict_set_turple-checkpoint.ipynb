{
 "cells": [
  {
   "cell_type": "markdown",
   "metadata": {},
   "source": [
    "# 汉诺塔问题\n",
    "- 规则：\n",
    "    - 一次只能移动一个\n",
    "    - 任何一次移动，三个塔的状态必须是小盘子在上，大盘纸在下\n",
    "- 移动:\n",
    "        1. n=1: 直接把A上的一个盘子移动到C上，A -> C\n",
    "        2. n=2: \n",
    "           （1）把小盘子从A放到B上，A -> B\n",
    "           （2）把大盘子从A放到C上，A -> C\n",
    "           （3）把小盘子从B放到C上，B -> C\n",
    "        3. n=3:\n",
    "            （1）把A上的两个盘子通过C放在B上，通过递归实现\n",
    "            （2）把A上最大的盘子移动到C上，A -> C\n",
    "            （3）把B上的两个盘子，借助于A，移动到C上去调用递归\n",
    "        4. n=n:\n",
    "            （1）把A上的n-1个盘子借助于C，移动到B上去，调用递归\n",
    "            （2）把A上最大的盘子，也是唯一一个，移动到C上去 A -> C\n",
    "            （3）把B上n-1个盘子，借助于A，移动到C上，调用递归\n",
    "        \n",
    "            "
   ]
  },
  {
   "cell_type": "code",
   "execution_count": 16,
   "metadata": {},
   "outputs": [],
   "source": [
    "def hano(n, a, b, c):\n",
    "    '''\n",
    "    汉诺塔递归实现\n",
    "    n: 代表几个盘子\n",
    "    a: 代表第1个塔\n",
    "    b: 代表第2个塔\n",
    "    c: 代表第3个塔\n",
    "    '''\n",
    "    if n == 1:\n",
    "        print(a, \"-->\", c)\n",
    "        return None\n",
    "    if n == 2:\n",
    "        print(a, \"-->\", b)\n",
    "        print(a, '-->', c)\n",
    "        print(b, '-->', c)\n",
    "        return None\n",
    "    if n >= 2:\n",
    "        # 把n-1个盘子，从a塔借助c塔，移动到b上去\n",
    "        hano(n-1, a, c, b)\n",
    "        print(a, \"-->\", c)\n",
    "        # 把n-1个盘子，从b塔借助a移动到c上去\n",
    "        hano(n-1, b, a, c)\n",
    "        \n",
    "        "
   ]
  },
  {
   "cell_type": "code",
   "execution_count": 17,
   "metadata": {},
   "outputs": [
    {
     "name": "stdout",
     "output_type": "stream",
     "text": [
      "A --> B\n",
      "A --> C\n",
      "B --> C\n",
      "A --> B\n",
      "C --> A\n",
      "C --> B\n",
      "A --> B\n",
      "A --> C\n",
      "B --> C\n",
      "B --> A\n",
      "C --> A\n",
      "B --> C\n",
      "A --> B\n",
      "A --> C\n",
      "B --> C\n"
     ]
    }
   ],
   "source": [
    "a = \"A\"\n",
    "b = \"B\"\n",
    "c = \"C\"\n",
    "n = 4\n",
    "hano(n, a, b, c)"
   ]
  },
  {
   "cell_type": "markdown",
   "metadata": {},
   "source": [
    "# List(列表)\n",
    "- del:删除命令\n",
    "    - 删除以后没有生生新的列表\n",
    "    - 属于原地删除\n",
    "    - del 删除一个变量后不能继续使用这个变量"
   ]
  },
  {
   "cell_type": "code",
   "execution_count": 20,
   "metadata": {},
   "outputs": [
    {
     "name": "stdout",
     "output_type": "stream",
     "text": [
      "79377544\n",
      "[1, 4, 5, 6, 7]\n",
      "79377544\n"
     ]
    }
   ],
   "source": [
    "a = [1,2,4,5,6,7]\n",
    "print(id(a))\n",
    "del a[1]\n",
    "print(a)\n",
    "print(id(a))\n",
    "# del 删除一个变量后不能继续使用这个变量"
   ]
  },
  {
   "cell_type": "markdown",
   "metadata": {},
   "source": [
    "### 列表相加\n",
    "- 使用加号连接两个列表"
   ]
  },
  {
   "cell_type": "code",
   "execution_count": 21,
   "metadata": {},
   "outputs": [
    {
     "name": "stdout",
     "output_type": "stream",
     "text": [
      "[1, 3, 4, 5, 6, 'a', 'c', 'd']\n"
     ]
    }
   ],
   "source": [
    "a = [1, 3, 4, 5, 6]\n",
    "b = ['a', 'c', 'd']\n",
    "c = a + b\n",
    "print(c)"
   ]
  },
  {
   "cell_type": "code",
   "execution_count": null,
   "metadata": {},
   "outputs": [],
   "source": [
    "# 使用乘号操作列表\n",
    "# 列表直接跟一个整数相乘\n",
    "# 相当于把n个列表相连"
   ]
  },
  {
   "cell_type": "code",
   "execution_count": 22,
   "metadata": {},
   "outputs": [
    {
     "name": "stdout",
     "output_type": "stream",
     "text": [
      "[1, 3, 4, 1, 3, 4, 1, 3, 4, 1, 3, 4, 1, 3, 4, 1, 3, 4, 1, 3, 4, 1, 3, 4, 1, 3, 4, 1, 3, 4]\n"
     ]
    }
   ],
   "source": [
    "a = [1, 3, 4,]*10\n",
    "print(a)"
   ]
  },
  {
   "cell_type": "code",
   "execution_count": 24,
   "metadata": {},
   "outputs": [
    {
     "name": "stdout",
     "output_type": "stream",
     "text": [
      "False\n",
      "True\n"
     ]
    }
   ],
   "source": [
    "# 成员资格运算\n",
    "# 就是判断一个元素是否在list里面\n",
    "a = [1,2,3,4,5,6,7]\n",
    "b = 8\n",
    "c = b in a \n",
    "print(c)\n",
    "b = 4\n",
    "print(b in a )"
   ]
  },
  {
   "cell_type": "code",
   "execution_count": 26,
   "metadata": {},
   "outputs": [
    {
     "name": "stdout",
     "output_type": "stream",
     "text": [
      "True\n"
     ]
    }
   ],
   "source": [
    "# not in\n",
    "a = [1, 3, 4, 5, 6,7]\n",
    "b = 9\n",
    "print(b not in a)"
   ]
  },
  {
   "cell_type": "markdown",
   "metadata": {},
   "source": [
    "# 列表的遍历\n",
    "- for\n",
    "- while"
   ]
  },
  {
   "cell_type": "code",
   "execution_count": 27,
   "metadata": {},
   "outputs": [
    {
     "name": "stdout",
     "output_type": "stream",
     "text": [
      "1\n",
      "3\n",
      "4\n",
      "5\n",
      "6\n",
      "7\n"
     ]
    }
   ],
   "source": [
    "# for in list\n",
    "a = [1, 3, 4, 5, 6,7]\n",
    "for i in a:\n",
    "    print(i)\n"
   ]
  },
  {
   "cell_type": "code",
   "execution_count": 28,
   "metadata": {},
   "outputs": [
    {
     "name": "stdout",
     "output_type": "stream",
     "text": [
      "I love Wu Yumei\n"
     ]
    }
   ],
   "source": [
    "b = [\"I love Wu Yumei\"]\n",
    "for i in b:\n",
    "    print(i)"
   ]
  },
  {
   "cell_type": "code",
   "execution_count": 1,
   "metadata": {},
   "outputs": [
    {
     "name": "stdout",
     "output_type": "stream",
     "text": [
      "1\n",
      "2\n",
      "4\n",
      "5\n",
      "6\n",
      "7\n",
      "8\n",
      "8\n"
     ]
    }
   ],
   "source": [
    "# in 后面的变量要求是可以迭代的内容\n",
    "# while 循环方位list，但是一般不用while 遍历list\n",
    "a = [1,2,4,5,6,7,8,8]\n",
    "length = len(a)\n",
    "# indx表示的是list的下标\n",
    "indx = 0\n",
    "while indx < length:\n",
    "    print(a[indx])\n",
    "    indx += 1"
   ]
  },
  {
   "cell_type": "code",
   "execution_count": 5,
   "metadata": {},
   "outputs": [
    {
     "name": "stdout",
     "output_type": "stream",
     "text": [
      "one --> 1\n",
      "tow --> 2\n",
      "three --> 3\n"
     ]
    }
   ],
   "source": [
    "# 双层列表循环\n",
    "a = [[\"one\", 1], [\"tow\", 2], [\"three\", 3]]\n",
    "for k, v in a:\n",
    "    print(k, \"-->\", v)"
   ]
  },
  {
   "cell_type": "code",
   "execution_count": 7,
   "metadata": {},
   "outputs": [
    {
     "name": "stdout",
     "output_type": "stream",
     "text": [
      "one --> 1 --> eins\n",
      "tow --> 2 --> zwei\n",
      "three --> 3 --> drei\n"
     ]
    }
   ],
   "source": [
    "# 例子说明，k,v,w的个数对应跟解包出来的变量个数一致\n",
    "a = [[\"one\", 1, \"eins\"], [\"tow\", 2, 'zwei'], [\"three\", 3, 'drei']]\n",
    "for k, v,w in a:\n",
    "    print(k, \"-->\", v, '-->',w)"
   ]
  },
  {
   "cell_type": "markdown",
   "metadata": {},
   "source": [
    "# 列表内涵：list content\n",
    "- 通过简单的方法制作列表"
   ]
  },
  {
   "cell_type": "code",
   "execution_count": 12,
   "metadata": {},
   "outputs": [
    {
     "name": "stdout",
     "output_type": "stream",
     "text": [
      "['a', 'b', 'c']\n",
      "[10, 20, 40, 50, 60]\n",
      "[2, 4, 6, 8, 10, 12, 14, 16, 18, 20, 22, 24, 26, 28, 30, 32, 34]\n"
     ]
    }
   ],
   "source": [
    "# 对于所有a 中的元素逐步放入到列表中\n",
    "a = ['a', 'b', 'c']\n",
    "b = [i for i in a]\n",
    "print(b)\n",
    "a = [1, 2, 4, 5, 6]\n",
    "b = [i*10 for i in a]\n",
    "print(b)\n",
    "# 还可以过滤列表中不需要的元素\n",
    "a = [x for x in range(1,35)]\n",
    "b = [i for i in a if i%2==0]\n",
    "print(b)"
   ]
  },
  {
   "cell_type": "code",
   "execution_count": 20,
   "metadata": {},
   "outputs": [
    {
     "name": "stdout",
     "output_type": "stream",
     "text": [
      "[1, 2, 3, 4, 5, 6, 7, 8, 9]\n",
      "[100, 200, 300]\n",
      "[101, 201, 301, 102, 202, 302, 103, 203, 303, 104, 204, 304, 105, 205, 305, 106, 206, 306, 107, 207, 307, 108, 208, 308, 109, 209, 309]\n",
      "101 201 301 102 202 302 103 203 303 104 204 304 105 205 305 106 206 306 107 207 307 108 208 308 109 209 309 \n",
      "[101, 201, 102, 202, 103, 203, 104, 204, 105, 205, 106, 206, 107, 207, 108, 208, 109, 209]\n"
     ]
    }
   ],
   "source": [
    "# 列表生成式也可以嵌套\n",
    "# 两个列表啊 a , b\n",
    "a = [i for i in range(1,10)]\n",
    "print(a)\n",
    "b = [i for i in range(100,400) if i % 100==0]\n",
    "print(b)\n",
    "c = [m+n for m in a for n in b]\n",
    "print(c)\n",
    "for m in a :\n",
    "    for n in b:\n",
    "        print(m+n, end = ' ')\n",
    "print()\n",
    "# 嵌套表达式也可以使用条件\n",
    "c = [m+n for m in a for n in b if m+n < 250 ]\n",
    "print(c)"
   ]
  },
  {
   "cell_type": "markdown",
   "metadata": {},
   "source": [
    "# 列表常用的函数\n",
    "- len :求列表的长度\n",
    "- max :求列表的最大值（数字，和字符串）\n",
    "- min :求最小值\n",
    "\n",
    "\n"
   ]
  },
  {
   "cell_type": "code",
   "execution_count": 23,
   "metadata": {},
   "outputs": [
    {
     "name": "stdout",
     "output_type": "stream",
     "text": [
      "[1, 3, 4]\n",
      "['I', ' ', 'l', 'o', 'v', 'e', ' ', 'W', 'u', 'y', 'u', 'm', 'e', 'i']\n",
      "[12, 13, 14, 15, 16, 17, 18]\n"
     ]
    }
   ],
   "source": [
    "# list: 将其他格式的数据转换成list,要求转换的东西是可迭代的。\n",
    "a = [1, 3, 4]\n",
    "print(list(a))\n",
    "s = 'I love Wuyumei'\n",
    "print(list(s))\n",
    "print(list(range(12,19)))"
   ]
  },
  {
   "cell_type": "code",
   "execution_count": 24,
   "metadata": {},
   "outputs": [
    {
     "name": "stdout",
     "output_type": "stream",
     "text": [
      "[1, 2, 3, 4, 5, 6]\n",
      "[1, 2, 300, 4, 5, 6]\n",
      "[1, 2, 300, 4, 5, 6]\n",
      "9\n",
      "109\n",
      "9\n"
     ]
    }
   ],
   "source": [
    "# 传址和传值\n",
    "# 对于简单的数值，采用传值操作，即在函数内对参数的操作不影响外面的变量\n",
    "# 对于复杂的变量，采用传址，此时函数内的参数和外部变量是同一份内容，任何地方对此内容的更改都影响另外的变量或参数的使用\n",
    "def a(n):\n",
    "    # 这里传址\n",
    "    n[2] = 300\n",
    "    print(n)\n",
    "    return None\n",
    "def b(n):\n",
    "    # 这里传值\n",
    "    n += 100\n",
    "    print(n)\n",
    "    return None\n",
    "an = [1, 2, 3, 4, 5, 6]\n",
    "bn = 9\n",
    "print(an)\n",
    "a(an)\n",
    "print(an)\n",
    "# 这里会显示bn 值不变，an的值变化。\n",
    "print(bn)\n",
    "b(bn)\n",
    "print(bn)"
   ]
  },
  {
   "cell_type": "markdown",
   "metadata": {},
   "source": [
    "# 关于列表的函数\n",
    "- .append() 插入一个内容，在末尾追加，\n",
    "- .insert(a,b) 插入一个内容，插入位置是index的前面,不常用，消耗资源\n",
    "- del（删除）\n",
    "- .pop() 拿出最后一个元素，\n",
    "- remove() 在列表中删除指定的值和元素,会产生一个新的list\n",
    "    - 如果被删除的对象的值没在list中，则报错，即在删除list中应该使用try...except语句，或者先进行判断\n",
    "        if x in list:\n",
    "            list.remve(x)\n",
    "- clear() ,清空,但是list的地址不变\n",
    "- reverse()，翻转,原地翻转 id不变\n",
    "- extend() 扩展列表，两个列表，直接把一个拼接道另一个上，id 不变\n",
    "- count 查找列表中指定值或者元素的个数\n",
    "- copy 拷贝，前拷贝，id会发生改变\n",
    "\n"
   ]
  },
  {
   "cell_type": "code",
   "execution_count": 30,
   "metadata": {},
   "outputs": [
    {
     "name": "stdout",
     "output_type": "stream",
     "text": [
      "['a', 'I love wangxiaojing', 45, 766, (5+4j), 100]\n"
     ]
    }
   ],
   "source": [
    "l = ['a', 'I love wangxiaojing', 45, 766, 5+4j]\n",
    "l.append(100)\n",
    "print(l)"
   ]
  },
  {
   "cell_type": "code",
   "execution_count": 44,
   "metadata": {},
   "outputs": [
    {
     "name": "stdout",
     "output_type": "stream",
     "text": [
      "['a', 'I love wangxiaojing', 45, 666, 666, 666, 666, 666, 766]\n"
     ]
    }
   ],
   "source": [
    "print(l)\n",
    "l.insert(3,666)\n"
   ]
  },
  {
   "cell_type": "code",
   "execution_count": 35,
   "metadata": {},
   "outputs": [
    {
     "name": "stdout",
     "output_type": "stream",
     "text": [
      "['a', 'I love wangxiaojing', 45, 666, 666, 766, (5+4j)]\n",
      "(5+4j)\n",
      "['a', 'I love wangxiaojing', 45, 666, 666, 766]\n"
     ]
    }
   ],
   "source": [
    "print(l)\n",
    "last_ele = l.pop()\n",
    "print(last_ele)\n",
    "print(l)"
   ]
  },
  {
   "cell_type": "code",
   "execution_count": 48,
   "metadata": {},
   "outputs": [
    {
     "name": "stdout",
     "output_type": "stream",
     "text": [
      "['a', 'I love wangxiaojing', 45, 666, 666, 666, 766]\n",
      "80758032\n",
      "['a', 'I love wangxiaojing', 45, 666, 666, 766]\n",
      "79393288\n"
     ]
    }
   ],
   "source": [
    "print(l)\n",
    "print(id(a))\n",
    "l.remove(666)\n",
    "print(l)\n",
    "print(id(l))"
   ]
  },
  {
   "cell_type": "code",
   "execution_count": 50,
   "metadata": {},
   "outputs": [
    {
     "name": "stdout",
     "output_type": "stream",
     "text": [
      "['a', 'I love wangxiaojing', 45, 666, 666, 766]\n",
      "79393288\n",
      "[]\n",
      "79393288\n"
     ]
    }
   ],
   "source": [
    "print(l)\n",
    "print(id(l))\n",
    "l.clear()\n",
    "print(l)\n",
    "print(id(l))"
   ]
  },
  {
   "cell_type": "code",
   "execution_count": 51,
   "metadata": {},
   "outputs": [
    {
     "name": "stdout",
     "output_type": "stream",
     "text": [
      "[1, 2, 3, 4, 5, 5, 5, 5]\n",
      "4\n"
     ]
    }
   ],
   "source": [
    "a = [1, 2, 3, 4, 5,5,5,5]\n",
    "print(a)\n",
    "a_len = a.count(5)\n",
    "print(a_len)"
   ]
  },
  {
   "cell_type": "code",
   "execution_count": 52,
   "metadata": {},
   "outputs": [
    {
     "name": "stdout",
     "output_type": "stream",
     "text": [
      "[1, 2, 3, 4, 5, 666]\n",
      "80793288\n",
      "[1, 2, 3, 777, 5, 666]\n",
      "80793288\n",
      "[1, 2, 3, 777, 5, 666]\n"
     ]
    }
   ],
   "source": [
    "# copy； 拷贝，浅拷贝,拷贝以后修改地址。\n",
    "a = [1,2,3,4,5,666]\n",
    "print(a)\n",
    "# list 变量直接进行赋值，简单的赋值，\n",
    "b = a # 这里python偷懒了，直接把b的地址直接指向了a的地址\n",
    "b[3] = 777\n",
    "print(id(a))\n",
    "print(a)\n",
    "print(id(b))\n",
    "print(b)"
   ]
  },
  {
   "cell_type": "code",
   "execution_count": 54,
   "metadata": {},
   "outputs": [
    {
     "name": "stdout",
     "output_type": "stream",
     "text": [
      "------------------------------\n",
      "[1, 2, 3, 777, 5, 666]\n",
      "80793288\n",
      "[1, 2, 3, 777, 5, 666]\n",
      "80796168\n",
      "[1, 2, 3, 777, 5, 666]\n",
      "[1, 2, 3, 888, 5, 666]\n"
     ]
    }
   ],
   "source": [
    "print(\"-\" * 30)\n",
    "# 为了解决以上问题，list赋值要采用copy\n",
    "b = a.copy()\n",
    "print(a)\n",
    "print(id(a))\n",
    "print(b)\n",
    "print(id(b))\n",
    "b[3] = 888\n",
    "print(a)\n",
    "print(b)"
   ]
  },
  {
   "cell_type": "code",
   "execution_count": 56,
   "metadata": {},
   "outputs": [
    {
     "name": "stdout",
     "output_type": "stream",
     "text": [
      "80792008\n",
      "80792456\n",
      "----------------------------------------\n",
      "80253960\n",
      "80253960\n",
      "[1, 2, 3, [10, 20, 666]]\n",
      "[1, 2, 3, [10, 20, 666]]\n"
     ]
    }
   ],
   "source": [
    "# 深拷贝跟浅拷贝的区别\n",
    "# copy 是浅拷贝，职能拷贝一层内容\n",
    "# 深拷贝需要使用特定的工具\n",
    "a = [1, 2, 3, [10, 20, 30]]\n",
    "b = a.copy()\n",
    "print(id(a))\n",
    "print(id(b))\n",
    "print('--'*20)\n",
    "print(id(a[3]))\n",
    "print(id(b[3]))\n",
    "a[3][2] = 666\n",
    "print(a)\n",
    "print(b)"
   ]
  },
  {
   "cell_type": "markdown",
   "metadata": {},
   "source": [
    "# 元组-tuple\n",
    "- 元组可以看成一个不可更改的list\n",
    "## 元组的创建\n",
    "## 元组的特性\n",
    "- 是序列表，有序\n",
    "- 元组数据可以访问，不能修改，不能修改\n",
    "- 元组数据可以任意类型\n",
    "- 元组数据可以是任意值\n",
    "- 总之，list所有特性，除了不可以修改之外都能具有\n",
    "- list 具有的一些操作：索引，分片，序列，相乘，成员资格等。\n",
    "- tuple的不可修改是指内容的不可修改，但是id可以变化"
   ]
  },
  {
   "cell_type": "code",
   "execution_count": 57,
   "metadata": {},
   "outputs": [
    {
     "name": "stdout",
     "output_type": "stream",
     "text": [
      "<class 'tuple'>\n"
     ]
    }
   ],
   "source": [
    "t = ()\n",
    "print(type(t))"
   ]
  },
  {
   "cell_type": "code",
   "execution_count": 61,
   "metadata": {},
   "outputs": [
    {
     "name": "stdout",
     "output_type": "stream",
     "text": [
      "<class 'int'>\n",
      "1\n",
      "<class 'tuple'>\n",
      "(1,)\n",
      "<class 'tuple'>\n",
      "(1, 2, 3, 4)\n",
      "<class 'tuple'>\n",
      "(1, 2, 4, 5, 67, 8)\n"
     ]
    }
   ],
   "source": [
    "# 创建一个只有一个值的元组\n",
    "t = (1)\n",
    "print(type(t))\n",
    "print(t)\n",
    "t = (1,)\n",
    "print(type(t))\n",
    "print(t)\n",
    "# 创建多个值的元组\n",
    "t = (1,2,3,4)\n",
    "print(type(t))\n",
    "print(t)\n",
    "\n",
    "# 使用其他结构创建结构\n",
    "l = [1,2,4,5,67,8]\n",
    "t = tuple(l)\n",
    "print(type(t))\n",
    "print(t)"
   ]
  },
  {
   "cell_type": "code",
   "execution_count": 67,
   "metadata": {},
   "outputs": [
    {
     "name": "stdout",
     "output_type": "stream",
     "text": [
      "5\n",
      "----------------------------------------\n",
      "80743304\n",
      "83114312\n",
      "(2, 4, 6)\n",
      "----------------------------------------\n",
      "----------------------------------------\n"
     ]
    }
   ],
   "source": [
    "t = (1,2,3,4,5,6)\n",
    "print(t[4])\n",
    "print('--'*20)\n",
    "t1 = t[1::2]\n",
    "print(id(t))\n",
    "print(id(t1))\n",
    "print(t1)\n",
    "print('--'*20)\n",
    "# 切片可以超标\n",
    "t2 = t[1:10]\n",
    "print('--'*20)"
   ]
  },
  {
   "cell_type": "code",
   "execution_count": 70,
   "metadata": {},
   "outputs": [
    {
     "name": "stdout",
     "output_type": "stream",
     "text": [
      "(1, 2, 3, 4, 5, 6)\n"
     ]
    }
   ],
   "source": [
    "# 序列相加\n",
    "t1 =(1,2,3)\n",
    "t2 = (4,5,6)\n",
    "print(t1)\n",
    "print(id(t1))\n",
    "t1 = t1 + t2\n",
    "print(t1)\n",
    "print(id(t1))\n",
    "# 以上操作，类似于\n",
    "t1 = (1,2,3)\n",
    "t1 = (1,2,3,4,5,6)\n",
    "# tuple的不可修改是指内容的不可修改，但是id可以变化\n"
   ]
  },
  {
   "cell_type": "code",
   "execution_count": 71,
   "metadata": {},
   "outputs": [
    {
     "name": "stdout",
     "output_type": "stream",
     "text": [
      "(1, 2, 3, 1, 2, 3, 1, 2, 3)\n"
     ]
    }
   ],
   "source": [
    "# 元组相乘\n",
    "t = (1,2,3)\n",
    "t = t * 3\n",
    "print(t)"
   ]
  },
  {
   "cell_type": "code",
   "execution_count": 72,
   "metadata": {},
   "outputs": [
    {
     "name": "stdout",
     "output_type": "stream",
     "text": [
      "YES\n"
     ]
    }
   ],
   "source": [
    "# 成员检测\n",
    "t = (1,2,3)\n",
    "if 2 in t:\n",
    "    print(\"YES\")\n",
    "else:\n",
    "    print(\"NO\")"
   ]
  },
  {
   "cell_type": "code",
   "execution_count": 74,
   "metadata": {},
   "outputs": [
    {
     "name": "stdout",
     "output_type": "stream",
     "text": [
      "1 3 4 wangxiaojing i love "
     ]
    }
   ],
   "source": [
    "# 元组遍历，一般采用for\n",
    "# 1.单层元组遍历\n",
    "t = (1,3,4,\"wangxiaojing\",\"i\", \"love\")\n",
    "for i in t:\n",
    "    print(i, end = ' ')"
   ]
  },
  {
   "cell_type": "code",
   "execution_count": 76,
   "metadata": {},
   "outputs": [
    {
     "name": "stdout",
     "output_type": "stream",
     "text": [
      "(1, 2, 3)\n",
      "('i', 'love', 'wangxiaojing')\n",
      "(3, 4, 5)\n",
      "1 ---> 2 ---> 3\n",
      "i ---> love ---> wangxiaojing\n",
      "3 ---> 4 ---> 5\n"
     ]
    }
   ],
   "source": [
    "# 2.双层元组的遍历\n",
    "t = ((1, 2, 3), (\"i\", \"love\", \"wangxiaojing\"), (3,4,5))\n",
    "for i in t:\n",
    "    print(i)\n",
    "for k, m, n in t:\n",
    "    print(k,\"--->\", m, \"--->\", n)\n"
   ]
  },
  {
   "cell_type": "markdown",
   "metadata": {},
   "source": [
    "# 关于元组的函数\n",
    "- len\n",
    "- max\n",
    "- min\n",
    "- tuple() 转化为tuple元组"
   ]
  },
  {
   "cell_type": "code",
   "execution_count": 77,
   "metadata": {},
   "outputs": [
    {
     "name": "stdout",
     "output_type": "stream",
     "text": [
      "4\n",
      "5\n",
      "1\n"
     ]
    }
   ],
   "source": [
    "# 获取元组的长度\n",
    "t = (1,2,3,5)\n",
    "print(len(t))\n",
    "print(max(t))\n",
    "print(min(t))"
   ]
  },
  {
   "cell_type": "markdown",
   "metadata": {},
   "source": [
    "# 元组的函数\n",
    "- 基本跟list 通用\n",
    "- .count()  指定数据出现的次数\n",
    "- index 求指定元素在元组中的索引位置（多个值时返回第一个）"
   ]
  },
  {
   "cell_type": "markdown",
   "metadata": {},
   "source": [
    "# 元组变量交换法\n",
    "- 变量交换值"
   ]
  },
  {
   "cell_type": "code",
   "execution_count": 78,
   "metadata": {},
   "outputs": [
    {
     "name": "stdout",
     "output_type": "stream",
     "text": [
      "1\n",
      "3\n",
      "3\n",
      "1\n"
     ]
    }
   ],
   "source": [
    "# 两个变量交换值\n",
    "a = 1\n",
    "b = 3\n",
    "print(a)\n",
    "print(b)\n",
    "# java 程序员会这么写\n",
    "a,b = b,a\n",
    "print(a)\n",
    "print(b)"
   ]
  },
  {
   "cell_type": "markdown",
   "metadata": {},
   "source": [
    "# 集合 -set\n",
    "- 集合是高中数学中的一个概念\n",
    "- 一堆数据的无序的唯一的数据，集合中每一个数据成为一个元素\n",
    "- 特征\n",
    "    - 数据没有顺序，没法索引和分片\n",
    "    - 集合内部的数据元素具有唯一性，可以用来排除重复数据\n",
    "    - 集合内的数据，str,int, float,tuple,冰冻集合，即内部职能方可以哈希的数据\n",
    "# 集合序列的操作\n",
    "- in\n",
    "- not in"
   ]
  },
  {
   "cell_type": "code",
   "execution_count": 87,
   "metadata": {},
   "outputs": [
    {
     "name": "stdout",
     "output_type": "stream",
     "text": [
      "<class 'set'>\n",
      "set()\n",
      "{1, 3, 'wangxiaojing', 'i', 'love'}\n",
      "哎呀\n",
      "爱个锤子\n"
     ]
    }
   ],
   "source": [
    "s = set()\n",
    "print(type(s))\n",
    "print(s)\n",
    "# 此时，大括号内定义一定要有值，否则定义出来的是一个dict\n",
    "s = {1, 3, \"i\", \"love\", \"wangxiaojing\"}\n",
    "print(s)\n",
    "if \"love\" in s:\n",
    "    print(\"哎呀\")\n",
    "if \"haha\" not in s:\n",
    "    print(\"爱个锤子\")"
   ]
  },
  {
   "cell_type": "code",
   "execution_count": 89,
   "metadata": {},
   "outputs": [
    {
     "name": "stdout",
     "output_type": "stream",
     "text": [
      "<class 'dict'>\n",
      "1 3 wangxiaojing i love "
     ]
    }
   ],
   "source": [
    "# 如果是使用大括号定义，则定义的是一个dict类型\n",
    "d = {}\n",
    "print(type(d))\n",
    "s = {1, 3, \"i\", \"love\", \"wangxiaojing\"}\n",
    "for i in s:\n",
    "    print(i,end= \" \")"
   ]
  },
  {
   "cell_type": "code",
   "execution_count": 91,
   "metadata": {},
   "outputs": [
    {
     "name": "stdout",
     "output_type": "stream",
     "text": [
      "i --> love --> wangxiaojing\n",
      "4 --> 5 --> 6\n",
      "1 --> 3 --> 4\n",
      "('i', 'love', 'wangxiaojing')\n",
      "(4, 5, 6)\n",
      "(1, 3, 4)\n"
     ]
    }
   ],
   "source": [
    "# 带有集合元组的遍历\n",
    "s = {(1,3,4), (\"i\",\"love\",\"wangxiaojing\"), (4,5,6)}\n",
    "for k,m,n in s:\n",
    "    print(k,\"-->\",m,\"-->\",n)\n",
    "for k in s:\n",
    "    print(k)"
   ]
  },
  {
   "cell_type": "markdown",
   "metadata": {},
   "source": [
    "# 集合的内涵"
   ]
  },
  {
   "cell_type": "code",
   "execution_count": 94,
   "metadata": {},
   "outputs": [
    {
     "name": "stdout",
     "output_type": "stream",
     "text": [
      "{1, 2, 3, 4, 5, 34, 45, 13, 567, 24}\n",
      "{1, 2, 3, 4, 5, 34, 45, 13, 567, 24}\n",
      "{24, 2, 4, 34}\n"
     ]
    }
   ],
   "source": [
    "# 普通的集合\n",
    "s = {13,24,45,567,1,2,3,4,2,4,5,2,34,1,3,4,4,3}\n",
    "print(s)\n",
    "\n",
    "# 普通集合的内涵\n",
    "ss = {i for i in s}\n",
    "print(ss)\n",
    "# 带提条件的集合\n",
    "sss = {i for i in s if i % 2 == 0}\n",
    "print(sss)"
   ]
  },
  {
   "cell_type": "code",
   "execution_count": 105,
   "metadata": {},
   "outputs": [
    {
     "name": "stdout",
     "output_type": "stream",
     "text": [
      "{'lovelovelove', 'iii', 'wangxiaojingwangxiaojingwangxiaojing'}\n"
     ]
    }
   ],
   "source": [
    "# 多循环的集合内涵\n",
    "s1 = {1,3,4,5}\n",
    "s2 = {\"i\", \"love\", \"wangxiaojing\"}\n",
    "s = {m*n for m in s2 for n in s1 if n ==3}\n",
    "print(s)"
   ]
  },
  {
   "cell_type": "code",
   "execution_count": 106,
   "metadata": {},
   "outputs": [
    {
     "name": "stdout",
     "output_type": "stream",
     "text": [
      "{2, 3, 4}\n"
     ]
    }
   ],
   "source": [
    "# add : 向集合内添加元素\n",
    "s = {2,3}\n",
    "s.add(4)\n",
    "print(s)"
   ]
  },
  {
   "cell_type": "code",
   "execution_count": 107,
   "metadata": {},
   "outputs": [
    {
     "name": "stdout",
     "output_type": "stream",
     "text": [
      "83145896\n",
      "83145896\n",
      "{5, 6, 7, 8, 23}\n",
      "{5, 6, 7, 8}\n",
      "----------------------------------------\n",
      "{5, 6, 7, 8}\n"
     ]
    },
    {
     "ename": "KeyError",
     "evalue": "10",
     "output_type": "error",
     "traceback": [
      "\u001b[1;31m---------------------------------------------------------------------------\u001b[0m",
      "\u001b[1;31mKeyError\u001b[0m                                  Traceback (most recent call last)",
      "\u001b[1;32m<ipython-input-107-ca7c5c36385e>\u001b[0m in \u001b[0;36m<module>\u001b[1;34m()\u001b[0m\n\u001b[0;32m     17\u001b[0m \u001b[0mprint\u001b[0m\u001b[1;33m(\u001b[0m\u001b[0ms\u001b[0m\u001b[1;33m)\u001b[0m\u001b[1;33m\u001b[0m\u001b[0m\n\u001b[0;32m     18\u001b[0m \u001b[1;33m\u001b[0m\u001b[0m\n\u001b[1;32m---> 19\u001b[1;33m \u001b[0ms\u001b[0m\u001b[1;33m.\u001b[0m\u001b[0mremove\u001b[0m\u001b[1;33m(\u001b[0m\u001b[1;36m10\u001b[0m\u001b[1;33m)\u001b[0m\u001b[1;33m\u001b[0m\u001b[0m\n\u001b[0m\u001b[0;32m     20\u001b[0m \u001b[0mprint\u001b[0m\u001b[1;33m(\u001b[0m\u001b[0ms\u001b[0m\u001b[1;33m)\u001b[0m\u001b[1;33m\u001b[0m\u001b[0m\n",
      "\u001b[1;31mKeyError\u001b[0m: 10"
     ]
    }
   ],
   "source": [
    "# clear\n",
    "s = {1,2,3,4,5}\n",
    "print(id(s))\n",
    "s.clear()\n",
    "print(id(s))\n",
    "# 结果表明只是把数据清空了\n",
    "# copy：\n",
    "# remove:删除指定的值\n",
    "# discard : 移除集合中指定的值，跟remove 一样，但是如果删除的话，不报错\n",
    "s = {23,4,5,6,7,8}\n",
    "s.remove(4)\n",
    "print(s)\n",
    "s.discard(23)\n",
    "print(s)\n",
    "print('--'*20)\n",
    "s.discard(10)\n",
    "print(s)\n",
    "\n",
    "s.remove(10)\n",
    "print(s)"
   ]
  },
  {
   "cell_type": "code",
   "execution_count": 111,
   "metadata": {},
   "outputs": [
    {
     "name": "stdout",
     "output_type": "stream",
     "text": [
      "1\n",
      "{2, 3, 4, 5, 6}\n"
     ]
    }
   ],
   "source": [
    "# pop 随机移除一个元素\n",
    "s = {1,2,3,4,5,6}\n",
    "d1 = s.pop()\n",
    "print(d1)\n",
    "print(s)"
   ]
  },
  {
   "cell_type": "markdown",
   "metadata": {},
   "source": [
    "# 结合运算，交，并，补\n",
    "- intersection: 交集\n",
    "- difference：差集\n",
    "- union: 补集\n",
    "- issuperset : 检查一个结合是否是另一个集合\n"
   ]
  },
  {
   "cell_type": "code",
   "execution_count": 113,
   "metadata": {},
   "outputs": [
    {
     "name": "stdout",
     "output_type": "stream",
     "text": [
      "{2, 3, 5, 6, 8}\n",
      "{1, 4, 7, 8, 9}\n",
      "True\n"
     ]
    }
   ],
   "source": [
    "s1 = {1,2,3,4,5,6,7,8,9}\n",
    "s2 = {2,3,5,6,8}\n",
    "s3 = {3,5,6,10,34,2}\n",
    "\n",
    "s_1 = s1.intersection(s2)\n",
    "print(s_1)\n",
    "s_2 = s1.difference(s3)\n",
    "print(s_2)\n",
    "s_3 = s1.issuperset(s2)\n",
    "print(s_3)"
   ]
  },
  {
   "cell_type": "markdown",
   "metadata": {},
   "source": [
    "# frozen set:冰冻集合\n",
    "- 不能修改的结合\n",
    "- frozenset 是一个特殊的集合"
   ]
  },
  {
   "cell_type": "code",
   "execution_count": 114,
   "metadata": {},
   "outputs": [
    {
     "name": "stdout",
     "output_type": "stream",
     "text": [
      "<class 'frozenset'>\n",
      "frozenset()\n"
     ]
    }
   ],
   "source": [
    "# 创建冰冻结合\n",
    "s = frozenset()\n",
    "print(type(s))\n",
    "print(s)"
   ]
  },
  {
   "cell_type": "markdown",
   "metadata": {},
   "source": [
    "# 字典 -dict\n",
    "- 字典是一种组合数据，没有顺序的组合数据，数据已就键值出现"
   ]
  },
  {
   "cell_type": "code",
   "execution_count": 117,
   "metadata": {},
   "outputs": [
    {
     "name": "stdout",
     "output_type": "stream",
     "text": [
      "{}\n",
      "{}\n",
      "{'one': 1, 'two': 2, 'three': 3}\n",
      "{'one': 1, 'two': 2, 'three': 3}\n",
      "{'one': 1, 'two': 2, 'three': 3}\n"
     ]
    }
   ],
   "source": [
    "# 字典的创建\n",
    "d = {}\n",
    "print(d)\n",
    "d = dict()\n",
    "print(d)\n",
    "# 创建有值的字典，每一组用冒号隔开，每一对键值用逗号隔开\n",
    "d = {\"one\":1, \"two\":2, \"three\":3}\n",
    "print(d)\n",
    "\n",
    "d = dict({\"one\":1, \"two\":2, \"three\":3})\n",
    "print(d)\n",
    "d = dict(one=1, two=2, three=3)\n",
    "print(d)\n"
   ]
  },
  {
   "cell_type": "markdown",
   "metadata": {},
   "source": [
    "# 字典的特征\n",
    "- 字典是序列类型，但是是无序序列，所以没有分片和索引\n",
    "- 字典中的数据每个都有键值对组成，即k v 对\n",
    "    - key: 必须是可哈希的值，比如 int, string , float, tuple\n",
    "    - value: 任何值"
   ]
  },
  {
   "cell_type": "code",
   "execution_count": 119,
   "metadata": {},
   "outputs": [
    {
     "name": "stdout",
     "output_type": "stream",
     "text": [
      "1\n",
      "{'one': 'eins', 'two': 2, 'three': 3}\n",
      "{'two': 2, 'three': 3}\n"
     ]
    }
   ],
   "source": [
    "# 访问数据\n",
    "d = {\"one\":1, \"two\":2, \"three\":3}\n",
    "# 注意访问格式\n",
    "# 中括号内是键值\n",
    "print(d['one'])\n",
    "\n",
    "d[\"one\"] = \"eins\"\n",
    "print(d)\n",
    "# 删除某个操作\n",
    "# 使用del\n",
    "del  d['one']\n",
    "print(d)\n"
   ]
  },
  {
   "cell_type": "code",
   "execution_count": 122,
   "metadata": {},
   "outputs": [
    {
     "name": "stdout",
     "output_type": "stream",
     "text": [
      "key\n"
     ]
    }
   ],
   "source": [
    "# 成员检测， in ,not in\n",
    "# 成员检测检测的是 key 的内容\n",
    "d = {\"one\":1, \"two\":2, \"three\":3}\n",
    "\n",
    "if 2 in d:\n",
    "    print('value')\n",
    "if \"two\" in d:\n",
    "    print(\"key\")\n",
    "if ('two', 2) in d:\n",
    "    print('kv')"
   ]
  },
  {
   "cell_type": "code",
   "execution_count": 126,
   "metadata": {},
   "outputs": [
    {
     "name": "stdout",
     "output_type": "stream",
     "text": [
      "one --> 1\n",
      "two --> 2\n",
      "three --> 3\n",
      "one 1\n",
      "two 2\n",
      "three 3\n",
      "1\n",
      "2\n",
      "3\n",
      "one --> 1\n",
      "two --> 2\n",
      "three --> 3\n"
     ]
    }
   ],
   "source": [
    "# 遍历字典在python2 和 python3 中区别很大\n",
    "# 按照 key 值使用for循环\n",
    "d = {\"one\":1, \"two\":2, \"three\":3}\n",
    "# 使用for循环，直接使用key直接访问\n",
    "for k in d :\n",
    "    print(k, '-->', d[k])\n",
    "# 上述代码也可以更改为：\n",
    "for k in d.keys():\n",
    "    print(k, d[k])\n",
    "# 只访问字典的值\n",
    "for v in d.values():\n",
    "    print(v)\n",
    "for k,v in d.items():\n",
    "    print(k,\"-->\",v)"
   ]
  },
  {
   "cell_type": "markdown",
   "metadata": {},
   "source": [
    "# 字典生成式"
   ]
  },
  {
   "cell_type": "code",
   "execution_count": 128,
   "metadata": {},
   "outputs": [
    {
     "name": "stdout",
     "output_type": "stream",
     "text": [
      "{'one': 1, 'two': 2, 'three': 3}\n",
      "{'two': 2}\n"
     ]
    }
   ],
   "source": [
    "d = {\"one\":1, \"two\":2, \"three\":3}\n",
    "# 常规字典生成式\n",
    "dd = {k:v for k,v in d.items()}\n",
    "print(dd)\n",
    "#加限制条件的字典生成式\n",
    "dd = {k:v for k,v in d.items()if v%2 ==0}\n",
    "print(dd)"
   ]
  },
  {
   "cell_type": "markdown",
   "metadata": {},
   "source": [
    "# 字典的相关函数\n",
    "- 通用函数：len, max, min, dict\n",
    "- str(字典): 返回字典的字符串格式\n",
    "- clear 清空字典\n",
    "- items 返回字典键值对组成的元组格式\n",
    "- keys 返回字典的键组成的一个结构\n",
    "- values 返回字典的值的一种结构，能够迭代的值\n",
    "- get 根据指定键返回相应的值，好处是可以设定默认值，get的默认值是None，可以系修改\n",
    "- fromkeys 使用指定序列作为键，使用一个值作为字典的所有键值"
   ]
  },
  {
   "cell_type": "code",
   "execution_count": 129,
   "metadata": {},
   "outputs": [
    {
     "name": "stdout",
     "output_type": "stream",
     "text": [
      "{'one': 1, 'two': 2, 'three': 3}\n"
     ]
    }
   ],
   "source": [
    "# 常规字典生成式\n",
    "dd = {k:v for k,v in d.items()}\n",
    "print(str(d))"
   ]
  },
  {
   "cell_type": "code",
   "execution_count": 130,
   "metadata": {},
   "outputs": [
    {
     "name": "stdout",
     "output_type": "stream",
     "text": [
      "<class 'dict_items'>\n",
      "dict_items([('one', 1), ('two', 2), ('three', 3)])\n"
     ]
    }
   ],
   "source": [
    "d = {k:v for k,v in d.items()}\n",
    "i = d.items()\n",
    "print(type(i))\n",
    "print(i)"
   ]
  },
  {
   "cell_type": "code",
   "execution_count": 131,
   "metadata": {},
   "outputs": [
    {
     "name": "stdout",
     "output_type": "stream",
     "text": [
      "<class 'dict_keys'>\n",
      "dict_keys(['one', 'two', 'three'])\n"
     ]
    }
   ],
   "source": [
    "k = d.keys()\n",
    "print(type(k))\n",
    "print(k)\n"
   ]
  },
  {
   "cell_type": "code",
   "execution_count": 132,
   "metadata": {},
   "outputs": [
    {
     "name": "stdout",
     "output_type": "stream",
     "text": [
      "<class 'dict_keys'>\n",
      "dict_keys(['one', 'two', 'three'])\n"
     ]
    }
   ],
   "source": [
    "v = d.keys()\n",
    "print(type(v))\n",
    "print(v)"
   ]
  },
  {
   "cell_type": "code",
   "execution_count": 135,
   "metadata": {},
   "outputs": [
    {
     "name": "stdout",
     "output_type": "stream",
     "text": [
      "None\n",
      "1\n",
      "100\n"
     ]
    }
   ],
   "source": [
    "d = {\"one\":1, \"two\":2, \"three\":3}\n",
    "print(d.get(\"onl\"))\n",
    "# 体会一下代码的区别\n",
    "# print(d[\"onl\"])\n",
    "# get 默认值是None,可以设置\n",
    "print(d.get(\"one\",100))\n",
    "print(d.get(\"onl\",100))\n",
    "# "
   ]
  },
  {
   "cell_type": "code",
   "execution_count": 136,
   "metadata": {},
   "outputs": [
    {
     "name": "stdout",
     "output_type": "stream",
     "text": [
      "{'eins': 'dignxianhao', 'zwei': 'dignxianhao', 'drei': 'dignxianhao'}\n"
     ]
    }
   ],
   "source": [
    "# fromkeys\n",
    "l = [\"eins\", 'zwei', 'drei']\n",
    "# 注意fromkeys两个参数的类型\n",
    "# 注意fromkeys的调用主题\n",
    "d = dict.fromkeys(l,'dignxianhao')\n",
    "print(d)"
   ]
  }
 ],
 "metadata": {
  "kernelspec": {
   "display_name": "Python 3",
   "language": "python",
   "name": "python3"
  },
  "language_info": {
   "codemirror_mode": {
    "name": "ipython",
    "version": 3
   },
   "file_extension": ".py",
   "mimetype": "text/x-python",
   "name": "python",
   "nbconvert_exporter": "python",
   "pygments_lexer": "ipython3",
   "version": "3.7.0"
  }
 },
 "nbformat": 4,
 "nbformat_minor": 2
}
