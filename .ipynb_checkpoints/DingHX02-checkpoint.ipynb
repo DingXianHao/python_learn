{
 "cells": [
  {
   "cell_type": "markdown",
   "metadata": {},
   "source": [
    "# 变量\n",
    "- 变量\n",
    "    - 明白\n",
    "        - 好的命名方法\n",
    "            - 你知道的好的东西\n",
    "                - 哈哈哈\n",
    "        - IntOne  MyFirstLove\n",
    "        - 大驼峰\n",
    "            - MyFirstLove\n",
    "        - 小驼峰\n",
    "            - myFirstLove\n",
    "        - my_first_love,int_one\n",
    "    - 保留字\n",
    "        - class, def,break,for\n",
    "    - "
   ]
  },
  {
   "cell_type": "code",
   "execution_count": 14,
   "metadata": {},
   "outputs": [
    {
     "name": "stdout",
     "output_type": "stream",
     "text": [
      "['False', 'None', 'True', 'and', 'as', 'assert', 'async', 'await', 'break', 'class', 'continue', 'def', 'del', 'elif', 'else', 'except', 'finally', 'for', 'from', 'global', 'if', 'import', 'in', 'is', 'lambda', 'nonlocal', 'not', 'or', 'pass', 'raise', 'return', 'try', 'while', 'with', 'yield']\n"
     ]
    }
   ],
   "source": [
    "# 查看关键字\n",
    "import keyword # 引入关键词模块\n",
    "# 打印系统关键字\n",
    "print (keyword.kwlist)"
   ]
  },
  {
   "cell_type": "markdown",
   "metadata": {},
   "source": []
  },
  {
   "cell_type": "code",
   "execution_count": 19,
   "metadata": {},
   "outputs": [
    {
     "name": "stdout",
     "output_type": "stream",
     "text": [
      "18\n",
      "18\n",
      "18\n",
      "18\n",
      "18\n",
      "12\n",
      "23\n",
      "45\n"
     ]
    }
   ],
   "source": [
    "age = 18\n",
    "print(age)\n",
    "print(18)\n",
    "age1=age2=age3=age\n",
    "print(age1)\n",
    "print(age2)\n",
    "print(age3)\n",
    "age5,age6,age7 = 12,23,45\n",
    "print(age5)\n",
    "print(age6)\n",
    "print(age7)"
   ]
  },
  {
   "cell_type": "markdown",
   "metadata": {},
   "source": [
    "## 变量的类型\n",
    "- 严格意义上讲，python有一种\n",
    "- 标准来讲\n",
    "    - 数字类型 Number\n",
    "    - 字符串类型 str\n",
    "    - 列表\n",
    "    - 元组 list\n",
    "    - 字典 Dictionary\n",
    "    - 集合 set\n",
    "    "
   ]
  },
  {
   "cell_type": "markdown",
   "metadata": {},
   "source": [
    "## Number 数字类型\n",
    "- 数字没有大小限制\n",
    "### 整数\n",
    "- 没有小数部分，表示个数的数字\n",
    "- 自然数 ， 0， 负自然数\n",
    "- 整数分 进制\n",
    "    - 二进制\n",
    "        - 计算机常用\n",
    "        -  计算机理解的数据\n",
    "        - 0 1 开头的\n",
    "        - 例如 0b101010\n",
    "        \n",
    "    - 八进制\n",
    "        - 不常用\n",
    "        - 以 0o 开头的 包含0-7的数字\n",
    "    - 十六进制\n",
    "        - 十六进一\n",
    "        - 其实是四个二进制表示一个十六进制数\n",
    "        - 包含0-9，a-f\n",
    "        - 数字上0x开头\n",
    "    - 十进制\n"
   ]
  },
  {
   "cell_type": "markdown",
   "metadata": {},
   "source": [
    "### 浮点数\n",
    "- 小数\n",
    "- 计算机里面表示浮点数可以有条件省略\n",
    "- 0.2\n",
    "- .2\n",
    "- 3.14\n",
    "- 2.\n",
    "- 科学技术法\n",
    "    - 表示 e/E 后面跟整数表示的指数\n",
    "    - 1.2\n",
    "    \n"
   ]
  },
  {
   "cell_type": "code",
   "execution_count": null,
   "metadata": {},
   "outputs": [],
   "source": [
    "height = 156.4\n",
    "print(height)\n",
    "shili = 0.2\n",
    "print(shili)\n"
   ]
  },
  {
   "cell_type": "code",
   "execution_count": 23,
   "metadata": {},
   "outputs": [
    {
     "name": "stdout",
     "output_type": "stream",
     "text": [
      "18\n",
      "65552\n"
     ]
    }
   ],
   "source": [
    "age = 18\n",
    "print(age)\n",
    "age = 0x10010\n",
    "print (age)"
   ]
  },
  {
   "cell_type": "markdown",
   "metadata": {},
   "source": [
    "### complex\n",
    "- 5+3j \n",
    "- 虚部都用j/J"
   ]
  },
  {
   "cell_type": "markdown",
   "metadata": {},
   "source": [
    "### 布尔值\n",
    "- 表示真假\n",
    "- 只有两个值\n",
    "- True/False\n"
   ]
  },
  {
   "cell_type": "markdown",
   "metadata": {},
   "source": [
    "## 字符串\n",
    "- 表示一串文字信息\n",
    "- 表示\n",
    "    - 单引号 ''只能表示一行\n",
    "    - 双引号 \"\"只能表示一行\n",
    "    - 三引号（三个单引号或者三个双引号）可以表示多行\n",
    "        - 能够可扩展多行信息\n",
    "- 单双引号交错使用"
   ]
  },
  {
   "cell_type": "code",
   "execution_count": 1,
   "metadata": {},
   "outputs": [
    {
     "name": "stdout",
     "output_type": "stream",
     "text": [
      "\n",
      "a style = \"color : red \">哈哈哈</a> wohaiao 偶爱能够啊飘过马屁pajg\n",
      "安排几个部门爬满不怕干广播盘更麻烦今年是【ank(:3[▓▓]快醒醒开学了\n",
      "\n"
     ]
    }
   ],
   "source": [
    "html = '''\n",
    "a style = \"color : red \">哈哈哈</a> wohaiao 偶爱能够啊飘过马屁pajg\n",
    "安排几个部门爬满不怕干广播盘更麻烦今年是【ank(:3[▓▓]快醒醒开学了\n",
    "'''\n",
    "print(html)"
   ]
  },
  {
   "cell_type": "markdown",
   "metadata": {},
   "source": [
    "### 转义字符\n",
    "- 用一个特殊的方法表示一系列不方便写出来的内容，比如回车、换行、退格\n",
    "- 借助反斜杠字符，一旦字符串出现反斜杠后边的一个或几个字符已经不是原来的意思，进行了转义\n",
    "- 在字符中出现反斜杠 一定要加倍小心，可能时转义字符的出现\n",
    "- 不同操作系统对不同换行操作有不同表示\n",
    "- Windows ： \\n\n",
    "- Linux: \\r\\n"
   ]
  },
  {
   "cell_type": "code",
   "execution_count": 7,
   "metadata": {},
   "outputs": [
    {
     "name": "stdout",
     "output_type": "stream",
     "text": [
      "let's go\n",
      "let's go\n",
      "c:\\user\n",
      "i love \r\n",
      "wangxiaojing\n"
     ]
    }
   ],
   "source": [
    "# 如果想表示出来 let's go \n",
    "# 1、可以使用嵌套引号，即使用双引号\n",
    "# 2、转义字符\n",
    "name_s = \"let's go\"\n",
    "print(name_s)\n",
    "# \\' = '\n",
    "name_ss = 'let\\'s go'\n",
    "print(name_ss)\n",
    "# \\\\ = \\\n",
    "sss = \"c:\\\\user\"\n",
    "print(sss)\n",
    "#回车换行符\n",
    "s1 = \"i love \\r\\nwangxiaojing\"\n",
    "print(s1)"
   ]
  },
  {
   "cell_type": "markdown",
   "metadata": {},
   "source": [
    "### 字符串格式化\n",
    "- 把字符串按照一定给事打印或者格式化\n",
    "- 格式化有两种：\n",
    "    - 利用百分号 （%）\n",
    "        - 在字符串中，利用%表示一个特殊的含义，表示对字符串进行格式化\n",
    "        - %d ：在此处该放一个整数\n",
    "        - %s : 表示此处应该放一个字符串\n",
    "    - 利用format 函数"
   ]
  },
  {
   "cell_type": "code",
   "execution_count": null,
   "metadata": {},
   "outputs": [],
   "source": [
    "s = \"XXX 你好 ，我们图灵学院开课了，免费的Python，不用学白不学，学了也白学。\""
   ]
  },
  {
   "cell_type": "code",
   "execution_count": 13,
   "metadata": {},
   "outputs": [
    {
     "name": "stdout",
     "output_type": "stream",
     "text": [
      "I love %s\n"
     ]
    }
   ],
   "source": [
    "s = \"I love %s\"\n",
    "# 下面直接打印，直接把%s打印出来了\n",
    "print(s)"
   ]
  },
  {
   "cell_type": "code",
   "execution_count": 15,
   "metadata": {},
   "outputs": [
    {
     "name": "stdout",
     "output_type": "stream",
     "text": [
      "I love wangxiaojing\n"
     ]
    }
   ],
   "source": [
    "print(\"I love %s\"%\"wangxiaojing\")"
   ]
  },
  {
   "cell_type": "code",
   "execution_count": 16,
   "metadata": {},
   "outputs": [
    {
     "name": "stdout",
     "output_type": "stream",
     "text": [
      "I love wangxiaojing\n"
     ]
    }
   ],
   "source": [
    "print(s% \"wangxiaojing\")"
   ]
  },
  {
   "cell_type": "code",
   "execution_count": 18,
   "metadata": {},
   "outputs": [
    {
     "name": "stdout",
     "output_type": "stream",
     "text": [
      "I am %d years old\n",
      "I am 18 years old\n"
     ]
    }
   ],
   "source": [
    "s = \"I am %d years old\"\n",
    "print(s)\n",
    "print(s%18)"
   ]
  },
  {
   "cell_type": "code",
   "execution_count": 19,
   "metadata": {},
   "outputs": [
    {
     "name": "stdout",
     "output_type": "stream",
     "text": [
      "I am %s ,i am %d years old\n"
     ]
    },
    {
     "ename": "TypeError",
     "evalue": "not enough arguments for format string",
     "output_type": "error",
     "traceback": [
      "\u001b[1;31m---------------------------------------------------------------------------\u001b[0m",
      "\u001b[1;31mTypeError\u001b[0m                                 Traceback (most recent call last)",
      "\u001b[1;32m<ipython-input-19-fb2cd1117223>\u001b[0m in \u001b[0;36m<module>\u001b[1;34m()\u001b[0m\n\u001b[0;32m      1\u001b[0m \u001b[0ms\u001b[0m \u001b[1;33m=\u001b[0m \u001b[1;34m\"I am %s ,i am %d years old\"\u001b[0m\u001b[1;33m\u001b[0m\u001b[0m\n\u001b[0;32m      2\u001b[0m \u001b[0mprint\u001b[0m\u001b[1;33m(\u001b[0m\u001b[0ms\u001b[0m\u001b[1;33m)\u001b[0m\u001b[1;33m\u001b[0m\u001b[0m\n\u001b[1;32m----> 3\u001b[1;33m \u001b[0mprint\u001b[0m\u001b[1;33m(\u001b[0m\u001b[0ms\u001b[0m\u001b[1;33m%\u001b[0m\u001b[1;34m\"tulingxuyaun\"\u001b[0m\u001b[1;33m)\u001b[0m\u001b[1;33m\u001b[0m\u001b[0m\n\u001b[0m",
      "\u001b[1;31mTypeError\u001b[0m: not enough arguments for format string"
     ]
    }
   ],
   "source": [
    "s = \"I am %s ,i am %d years old\"\n",
    "print(s)\n",
    "# 注意一下表达\n",
    "# 如果字符串中有占位符，有几个占位符需用几个实际内容代替，或者一个也不要\n",
    "print(s%\"tulingxuyaun\")"
   ]
  },
  {
   "cell_type": "code",
   "execution_count": 20,
   "metadata": {},
   "outputs": [
    {
     "name": "stdout",
     "output_type": "stream",
     "text": [
      "I am %s ,i am %d years old\n",
      "I am tulingxuyaun ,i am 18 years old\n"
     ]
    }
   ],
   "source": [
    "s = \"I am %s ,i am %d years old\"\n",
    "print(s)\n",
    "print(s%(\"tulingxuyaun\",18))"
   ]
  },
  {
   "cell_type": "markdown",
   "metadata": {},
   "source": [
    "### format 函数进行格式化字符串\n",
    "- 直接用format函数格式化\n",
    "- 现在推荐使用这个格式\n",
    "    - 在使用上，以{}和： 代替%号，后面使用format函数带参数完成,用{0}{1}{2}"
   ]
  },
  {
   "cell_type": "code",
   "execution_count": 21,
   "metadata": {},
   "outputs": [
    {
     "name": "stdout",
     "output_type": "stream",
     "text": [
      "I love Lixiaojing\n",
      "Yes,i am 18 years old , I love Tulingxueyuan and i am 18 years old\n"
     ]
    }
   ],
   "source": [
    "s = \"I love {}\".format(\"Lixiaojing\")\n",
    "print(s)\n",
    "s = \"Yes,i am {1} years old , I love {0} and i am {1} years old\".format(\"Tulingxueyuan\",18)\n",
    "print(s)"
   ]
  },
  {
   "cell_type": "markdown",
   "metadata": {},
   "source": [
    "### None\n",
    "- 表示什么都没有\n",
    "- 任何一个函数，可以用return 结尾，可以返回None\n",
    "- 用在占位置\n",
    "- 用来解除变量的绑定"
   ]
  }
 ],
 "metadata": {
  "kernelspec": {
   "display_name": "Python 3",
   "language": "python",
   "name": "python3"
  },
  "language_info": {
   "codemirror_mode": {
    "name": "ipython",
    "version": 3
   },
   "file_extension": ".py",
   "mimetype": "text/x-python",
   "name": "python",
   "nbconvert_exporter": "python",
   "pygments_lexer": "ipython3",
   "version": "3.7.0"
  }
 },
 "nbformat": 4,
 "nbformat_minor": 2
}
