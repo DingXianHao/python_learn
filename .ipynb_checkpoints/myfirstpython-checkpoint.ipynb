{
 "cells": [
  {
   "cell_type": "markdown",
   "metadata": {},
   "source": [
    "### complex\n",
    "- 5+3j \n",
    "- 虚部都用j/J"
   ]
  },
  {
   "cell_type": "markdown",
   "metadata": {},
   "source": [
    "### 布尔值\n",
    "- 表示真假\n",
    "- 只有两个值\n",
    "- True/False\n"
   ]
  },
  {
   "cell_type": "code",
   "execution_count": 2,
   "metadata": {},
   "outputs": [
    {
     "name": "stdout",
     "output_type": "stream",
     "text": [
      "19\n"
     ]
    }
   ],
   "source": [
    "age = 18 + True\n",
    "print(age)"
   ]
  },
  {
   "cell_type": "markdown",
   "metadata": {},
   "source": [
    "## 字符串\n",
    "- 表示一串文字信息\n",
    "- 表示\n",
    "    - 单引号 ''只能表示一行\n",
    "    - 双引号 \"\"只能表示一行\n",
    "    - 三引号（三个单引号或者三个双引号）可以表示多行\n",
    "        - 能够可扩展多行信息\n",
    "- 单双引号交错使用"
   ]
  },
  {
   "cell_type": "code",
   "execution_count": 8,
   "metadata": {},
   "outputs": [
    {
     "name": "stdout",
     "output_type": "stream",
     "text": [
      "\n",
      "a style = \"color : red \">哈哈哈</a> wohaiao 偶爱能够啊飘过马屁pajg\n",
      "安排几个部门爬满不怕干广播盘更麻烦今年是【ank(:3[▓▓]快醒醒开学了\n",
      "\n"
     ]
    }
   ],
   "source": [
    "html = '''\n",
    "a style = \"color : red \">哈哈哈</a> wohaiao 偶爱能够啊飘过马屁pajg\n",
    "安排几个部门爬满不怕干广播盘更麻烦今年是【ank(:3[▓▓]快醒醒开学了\n",
    "'''\n",
    "print(html)"
   ]
  },
  {
   "cell_type": "code",
   "execution_count": null,
   "metadata": {},
   "outputs": [
    {
     "name": "stdout",
     "output_type": "stream",
     "text": [
      "Enter a sting (e.g. your name):Hello\n",
      "Hellohello\n"
     ]
    }
   ],
   "source": [
    "input_string = input (\"Enter a sting (e.g. your name):\")\n",
    "input_string = input(input_string)\n",
    "input_string = input()\n",
    "for i in input_srting:\n",
    "    if i.isupper():\n",
    "        input_string = input_string.replace(i,'X')\n",
    "    elif i.islower():\n",
    "        input_string = input_string.replace(i,'x')\n",
    "print(input_string)"
   ]
  },
  {
   "cell_type": "code",
   "execution_count": null,
   "metadata": {},
   "outputs": [],
   "source": []
  },
  {
   "cell_type": "code",
   "execution_count": null,
   "metadata": {},
   "outputs": [],
   "source": []
  }
 ],
 "metadata": {
  "kernelspec": {
   "display_name": "Python 3",
   "language": "python",
   "name": "python3"
  },
  "language_info": {
   "codemirror_mode": {
    "name": "ipython",
    "version": 3
   },
   "file_extension": ".py",
   "mimetype": "text/x-python",
   "name": "python",
   "nbconvert_exporter": "python",
   "pygments_lexer": "ipython3",
   "version": "3.7.0"
  }
 },
 "nbformat": 4,
 "nbformat_minor": 2
}
