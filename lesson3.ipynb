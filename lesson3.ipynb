{
 "cells": [
  {
   "cell_type": "markdown",
   "metadata": {},
   "source": [
    "print(\"I love wuyumei\")"
   ]
  },
  {
   "cell_type": "markdown",
   "metadata": {},
   "source": [
    "### 表达式\n",
    "- 由一个或几个数字或者变量和运算符组合成的一行代码\n",
    "- 通常返回一个结果\n",
    "### 运算符\n",
    "- 由一个以上的值经过变化得到一个新的值\n",
    "- 用运算符的符号的运算符\n",
    "- 运算符分类\n",
    "    - 算数运算符\n",
    "    - 比较或者关系运算符\n",
    "    - 赋值运算符\n",
    "    - 位运算\n",
    "    - 成员运算符\n",
    "    - 身份运算符\n",
    "    - 逻辑运算符\n"
   ]
  },
  {
   "cell_type": "markdown",
   "metadata": {},
   "source": [
    "## 算数运算符\n",
    "- 进行算数运算的符号\n",
    "    - 乘号用（*）\n",
    "    - 除号用斜杠（/）\n",
    "    - 取余运算 （%）\n",
    "    - 取整运算 （//）\n",
    "    - 幂运算 （**)\n",
    "- python 没有自增减运算符\n"
   ]
  },
  {
   "cell_type": "code",
   "execution_count": 5,
   "metadata": {},
   "outputs": [
    {
     "name": "stdout",
     "output_type": "stream",
     "text": [
      "6561\n"
     ]
    }
   ],
   "source": [
    "a = 9-4+3\n",
    "# 除号在python2 和python3 不一样的，以三为准\n",
    "# python3 中 用%表示\n",
    "a = 9/4\n",
    "a = 9%4\n",
    "a = 9 //4\n",
    "a = 9**4\n",
    "print(a)"
   ]
  },
  {
   "cell_type": "code",
   "execution_count": 1,
   "metadata": {},
   "outputs": [
    {
     "name": "stdout",
     "output_type": "stream",
     "text": [
      "4950\n"
     ]
    }
   ],
   "source": [
    "sum =0\n",
    "i = 0\n",
    "while i<100 :\n",
    "    sum =sum +i\n",
    "    i=i+1\n",
    "print(sum)\n",
    "    "
   ]
  },
  {
   "cell_type": "markdown",
   "metadata": {},
   "source": [
    "## 比较运算符\n",
    "- 对两个变量或者值进行比较\n",
    "- 比较的结果一定是一个布尔值\n",
    "    - 等于号（==）\n",
    "    - 不等号（！=）\n",
    "    - 小于 大于号 大于等于 小于等于"
   ]
  },
  {
   "cell_type": "code",
   "execution_count": 4,
   "metadata": {},
   "outputs": [
    {
     "name": "stdout",
     "output_type": "stream",
     "text": [
      "False\n"
     ]
    }
   ],
   "source": [
    "#  下面语句执行顺序\n",
    "#   1,计算 a==80\n",
    "#   2,把结果放入 b 中\n",
    "\n",
    "a = 3**4\n",
    "b = a == 80\n",
    "print(b)"
   ]
  },
  {
   "cell_type": "markdown",
   "metadata": {},
   "source": [
    "## 赋值运算符\n",
    "- 等于号（=）\n",
    "- 加等于 \n",
    "    - a=0 a+=7(是，a = a + 7 的缩写）\n",
    "- -=， *= ,/= , //=, %= , (**=) 都是缩写\n"
   ]
  },
  {
   "cell_type": "code",
   "execution_count": 5,
   "metadata": {},
   "outputs": [
    {
     "name": "stdout",
     "output_type": "stream",
     "text": [
      "-1\n",
      "0.75\n",
      "12\n",
      "0\n",
      "3\n",
      "81\n"
     ]
    }
   ],
   "source": [
    "a = 3\n",
    "a -=4\n",
    "print(a)\n",
    "a = 3\n",
    "a /= 4\n",
    "print(a)\n",
    "a = 3\n",
    "a *=4\n",
    "print(a)\n",
    "a = 3\n",
    "a //=4\n",
    "print(a)\n",
    "a = 3\n",
    "a %=4\n",
    "print(a)\n",
    "a = 3\n",
    "a **=4\n",
    "print(a)"
   ]
  },
  {
   "cell_type": "markdown",
   "metadata": {},
   "source": [
    "## 逻辑运算符\n",
    "- 对布尔值进行预算的\n",
    "-  and 逻辑与\n",
    "- or 逻辑或\n",
    "- not 逻辑非\n",
    "- python中没有异或运算\n",
    "- 运算的窍门：\n",
    "    - and 看作乘法\n",
    "    - or 看作加法\n",
    "    - True 看作1\n",
    "    - False 看作0\n",
    "    - 最好结果如果是0 是False 否则为True\n",
    "- 逻辑运算的短路问题\n",
    "     - 逻辑运算式，按照一定的顺序计算，一旦能够确定整个式子的未来的值，则不再进行计算，直接返回\n",
    "    \n"
   ]
  },
  {
   "cell_type": "code",
   "execution_count": 7,
   "metadata": {},
   "outputs": [
    {
     "name": "stdout",
     "output_type": "stream",
     "text": [
      "True\n",
      "True\n"
     ]
    }
   ],
   "source": [
    "a = True\n",
    "b = False\n",
    "c = True\n",
    "d = a and b or c\n",
    "f = a or b and c\n",
    "print(f)\n",
    "print(d)"
   ]
  },
  {
   "cell_type": "code",
   "execution_count": 8,
   "metadata": {},
   "outputs": [
    {
     "ename": "SyntaxError",
     "evalue": "can't assign to operator (<ipython-input-8-5f2c4fe804bc>, line 7)",
     "output_type": "error",
     "traceback": [
      "\u001b[1;36m  File \u001b[1;32m\"<ipython-input-8-5f2c4fe804bc>\"\u001b[1;36m, line \u001b[1;32m7\u001b[0m\n\u001b[1;33m    a = a or b = 9 and 6\u001b[0m\n\u001b[1;37m       ^\u001b[0m\n\u001b[1;31mSyntaxError\u001b[0m\u001b[1;31m:\u001b[0m can't assign to operator\n"
     ]
    }
   ],
   "source": [
    "# 短路的示例\n",
    "# 下面的逻辑运算表达式，a的值一定是一个True，则运算到or 的时候，整个式子不在进行运算\n",
    "a = True or b\n",
    "# 下面表达式，如果XXX中包含赋值表达式，则结果很难预测\n",
    "# 代码示例（伪代码）\n",
    "b = 0\n",
    "a = a or b = 9 and 6\n",
    "print(b)\n",
    "print(a)\n"
   ]
  },
  {
   "cell_type": "markdown",
   "metadata": {},
   "source": [
    "## 成员预算\n",
    "- 用来检测一个变量是不是另外一个变量的成员\n",
    "- in\n",
    "- not in\n"
   ]
  },
  {
   "cell_type": "code",
   "execution_count": 10,
   "metadata": {},
   "outputs": [
    {
     "name": "stdout",
     "output_type": "stream",
     "text": [
      "False\n"
     ]
    }
   ],
   "source": [
    "# 案例\n",
    "l = [1,2,3,4,5]\n",
    "a = 7\n",
    "b = a in l\n",
    "print(b)"
   ]
  },
  {
   "cell_type": "code",
   "execution_count": 11,
   "metadata": {},
   "outputs": [
    {
     "name": "stdout",
     "output_type": "stream",
     "text": [
      "True\n"
     ]
    }
   ],
   "source": [
    "l = [1,2,3,4,5]\n",
    "a = 4\n",
    "b = a in l\n",
    "print(b)"
   ]
  },
  {
   "cell_type": "code",
   "execution_count": 12,
   "metadata": {},
   "outputs": [
    {
     "name": "stdout",
     "output_type": "stream",
     "text": [
      "False\n"
     ]
    }
   ],
   "source": [
    "l = [1,2,3,4,5]\n",
    "a = 4\n",
    "b = a not in l\n",
    "print(b)"
   ]
  },
  {
   "cell_type": "markdown",
   "metadata": {},
   "source": [
    "## 身份运算符\n",
    "- is: 用来检测两个变量是不是同一个变量\n",
    "    - 语法格式 var1 is var2\n",
    "- is not: 两个变量是不是同一个变量"
   ]
  },
  {
   "cell_type": "code",
   "execution_count": 13,
   "metadata": {},
   "outputs": [
    {
     "name": "stdout",
     "output_type": "stream",
     "text": [
      "True\n",
      "False\n"
     ]
    }
   ],
   "source": [
    "a = 9\n",
    "b = 9\n",
    "print(a is b)\n",
    "a = \"I love wangxiaojing\"\n",
    "b = \"I love wangxiaojing\"\n",
    "print(a is b)"
   ]
  },
  {
   "cell_type": "markdown",
   "metadata": {},
   "source": [
    "## 优先级的问题\n",
    "- 永远记住，括号有最高优先级\n",
    "- 优先级表格\n",
    "         ** 指数最高优先级\n",
    "         ~ + - 按位翻转，一元加号和减号 （最后两个的方法名为 +@ 和 -@）\n",
    "         * ,/ ,%, // 乘，除，取模和取整\n",
    "         + ，-  加减法\n",
    "         >>,<< 右移， 左移 运算符\n",
    "         & 位 ‘AND’\n",
    "         ^ | 位运算符\n",
    "         <= < > >=  比较与运算符\n",
    "         <> == != 等于运算符\n",
    "         = %= /= //= -= += *= **= 赋值运算\n",
    "         is   is not 身份运算符\n",
    "         in    not in 身份运算符\n",
    "         not  or and  逻辑运算符\n",
    "     "
   ]
  },
  {
   "cell_type": "markdown",
   "metadata": {},
   "source": [
    "# 程序结构\n",
    "- 顺序\n",
    "- 分支 \n",
    "- 循环 \n"
   ]
  },
  {
   "cell_type": "code",
   "execution_count": null,
   "metadata": {},
   "outputs": [],
   "source": []
  }
 ],
 "metadata": {
  "kernelspec": {
   "display_name": "Python 3",
   "language": "python",
   "name": "python3"
  },
  "language_info": {
   "codemirror_mode": {
    "name": "ipython",
    "version": 3
   },
   "file_extension": ".py",
   "mimetype": "text/x-python",
   "name": "python",
   "nbconvert_exporter": "python",
   "pygments_lexer": "ipython3",
   "version": "3.7.0"
  }
 },
 "nbformat": 4,
 "nbformat_minor": 2
}
