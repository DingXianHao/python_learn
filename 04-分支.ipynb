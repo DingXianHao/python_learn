{
 "cells": [
  {
   "cell_type": "markdown",
   "metadata": {},
   "source": [
    "### 三大结构\n",
    "- 分支\n",
    "- 顺序\n",
    "- 循环"
   ]
  },
  {
   "cell_type": "markdown",
   "metadata": {},
   "source": [
    "# 分支\n",
    "- 分支的基本语法\n",
    "        if 条件表达式：\n",
    "            语句1\n",
    "            语句2\n",
    "            语句3\n",
    "            .....\n",
    "- 条件表达式就是计算机结果为布尔值的表达式\n",
    "- 表达式后面冒号不能少\n",
    "- 注意if后面出现的语句，如果属于if 语句块，则必须同一一个缩进等级\n",
    "- 条件表达式结果为True 执行后面的缩进的语句块\n"
   ]
  },
  {
   "cell_type": "code",
   "execution_count": 1,
   "metadata": {},
   "outputs": [
    {
     "name": "stdout",
     "output_type": "stream",
     "text": [
      "去叫家长，孩子\n",
      "我们不带你玩\n",
      "滚你\n"
     ]
    }
   ],
   "source": [
    "# if语句练习\n",
    "# 如果age小于18岁，则打印信息“去叫家长”\n",
    "age = 17\n",
    "if  age < 18 :\n",
    "    print(\"去叫家长，孩子\")\n",
    "    print(\"我们不带你玩\")\n",
    "    print(\"滚你\")\n"
   ]
  },
  {
   "cell_type": "code",
   "execution_count": 2,
   "metadata": {},
   "outputs": [
    {
     "name": "stdout",
     "output_type": "stream",
     "text": [
      "开始上课，上车老司机们\n"
     ]
    }
   ],
   "source": [
    "# if语句练习\n",
    "# 如果age小于18岁，则打印信息“去叫家长”\n",
    "age = 19\n",
    "if  age < 18 :\n",
    "    print(\"去叫家长，孩子\")\n",
    "    print(\"我们不带你玩\")\n",
    "    print(\"滚你\")\n",
    "print(\"开始上课，上车老司机们\")"
   ]
  },
  {
   "cell_type": "code",
   "execution_count": null,
   "metadata": {},
   "outputs": [],
   "source": [
    "print(\"今天学习for循环\")\n",
    "gender = \"男\"\n",
    "if  gender == \"女\" ：\n",
    "    print(\"来，有糖吃\")"
   ]
  },
  {
   "cell_type": "markdown",
   "metadata": {},
   "source": [
    "### 双向分支\n",
    "- if ...else ...语句\n",
    "        if 条件表达式：\n",
    "           语句1\n",
    "           语句2\n",
    "           ...\n",
    "        else :\n",
    "           语句1\n",
    "           语句2\n",
    "           ...\n",
    "- 双向分支有两个分支，当执行到if ... else ... 语句的时候，一定会执行if 或者 else 中的一个，也只执行一个\n",
    "- 缩进问题， if 和 else 一个层级，其余一个等级"
   ]
  },
  {
   "cell_type": "code",
   "execution_count": 7,
   "metadata": {},
   "outputs": [
    {
     "name": "stdout",
     "output_type": "stream",
     "text": [
      "请输入你的性别：nan\n",
      "你输入的性别是：nan\n",
      "来，一起纪念一下今天吧，代码敲十遍\n",
      "开始上课了\n"
     ]
    }
   ],
   "source": [
    "# input 的作用\n",
    "# 1.在屏幕上输出括号内的内容\n",
    "# 2.接受用户输入的内容并返回到程序\n",
    "# 3.input返回的内容一定是字符串类型\n",
    "gender = input (\"请输入你的性别：\")\n",
    "print(\"你输入的性别是：{0}\".format(gender))\n",
    "\n",
    "if gender == \"nan\" :\n",
    "    print(\"来，一起纪念一下今天吧，代码敲十遍\")\n",
    "else :\n",
    "    print(\"发糖喽，发糖喽\")\n",
    "    print(\"你是女生，特殊照顾\")\n",
    "print(\"开始上课了\")\n",
    "    "
   ]
  },
  {
   "cell_type": "code",
   "execution_count": 13,
   "metadata": {},
   "outputs": [
    {
     "name": "stdout",
     "output_type": "stream",
     "text": [
      "请输入你的成绩： 90\n",
      "优秀\n"
     ]
    }
   ],
   "source": [
    "#考试成绩判断\n",
    "# input 返回值一定是字符串\n",
    "# 1.考试成绩90以上：输出优秀\n",
    "# 2.80-90：良好\n",
    "# 3.70-80：中等\n",
    "# 4.60-70：及格\n",
    "# 5.60以下：输出，我没有你个猪学生\n",
    "score = input(\"请输入你的成绩： \")\n",
    "# 需要把strz转换成int\n",
    "score = int(score)\n",
    "if score >=90:\n",
    "    print (\"优秀\")\n",
    "if score >= 80 and score < 90:\n",
    "    print (\"良好\")\n",
    "if score >= 70 and score < 80:\n",
    "    print(\"中等\")\n",
    "if score >= 60 and score < 70:\n",
    "    print(\"及格\")\n",
    "if score < 60:\n",
    "    print(\"我没有你这个学生\")"
   ]
  },
  {
   "cell_type": "markdown",
   "metadata": {},
   "source": [
    "## 多路分支\n",
    "- 很多分支的情况，简称多路分支\n",
    "        \n",
    "        if   条件表达式：\n",
    "            语句1\n",
    "            ...\n",
    "        elif 表达式：\n",
    "            语句1\n",
    "            ...\n",
    "         ...\n",
    "         else：\n",
    "             语句1\n",
    "             ...\n",
    "- elif 可以有很多个\n",
    "- else 可选（有或者没有都可以）\n",
    "- 多路分支只会选择一个执行"
   ]
  },
  {
   "cell_type": "code",
   "execution_count": 4,
   "metadata": {},
   "outputs": [
    {
     "name": "stdout",
     "output_type": "stream",
     "text": [
      "请输入你的成绩： 98\n",
      "优秀\n"
     ]
    }
   ],
   "source": [
    "#考试成绩判断\n",
    "# input 返回值一定是字符串\n",
    "# 1.考试成绩90以上：输出优秀\n",
    "# 2.80-90：良好\n",
    "# 3.70-80：中等\n",
    "# 4.60-70：及格\n",
    "# 5.60以下：输出，我没有你个猪学生\n",
    "score = input(\"请输入你的成绩： \")\n",
    "# 需要把strz转换成int\n",
    "score = int(score)\n",
    "if score >=90:\n",
    "    print (\"优秀\")\n",
    "elif score >= 80:\n",
    "    print (\"良好\")\n",
    "elif score >= 70:\n",
    "    print(\"中等\")\n",
    "elif score >= 60:\n",
    "    print(\"及格\")\n",
    "else:\n",
    "    print(\"我没有你这个学生\")"
   ]
  },
  {
   "cell_type": "markdown",
   "metadata": {},
   "source": [
    "## if 语句的其他：\n",
    "- if 语句可以嵌套使用，但是推荐（最多套两层）\n",
    "- python 没有 switch - case"
   ]
  },
  {
   "cell_type": "markdown",
   "metadata": {},
   "source": [
    "# 循环语句\n",
    "- 重复执行某些固定的动作或者重复基本固定的事物\n",
    "- 分类\n",
    "    - for\n",
    "    - while\n",
    "## for 循环\n",
    "- for循环\n",
    "        for 变量 in 序列：\n",
    "            语句1\n",
    "            语句2\n",
    "            ...\n"
   ]
  },
  {
   "cell_type": "code",
   "execution_count": 5,
   "metadata": {},
   "outputs": [
    {
     "name": "stdout",
     "output_type": "stream",
     "text": [
      "zhangsan\n",
      "lisi\n",
      "wangwu\n",
      "jingjing\n"
     ]
    }
   ],
   "source": [
    "# 列表就是一列数字或者其他值，一般是用中括号表示\n",
    "# 例如 ['zhangsan','lisi','wangwu','jingjing']\n",
    "\n",
    "# 打印学生列表循环\n",
    "for name in ['zhangsan','lisi','wangwu','jingjing']:\n",
    "    print(name)"
   ]
  },
  {
   "cell_type": "code",
   "execution_count": 6,
   "metadata": {},
   "outputs": [
    {
     "name": "stdout",
     "output_type": "stream",
     "text": [
      "zhangsan\n",
      "同学我们不约，不约，同学请请请自重\n",
      "lisi\n",
      "同学我们不约，不约，同学请请请自重\n",
      "wangwu\n",
      "同学我们不约，不约，同学请请请自重\n",
      "jingjing\n",
      "我的最爱jingjing出现了\n"
     ]
    }
   ],
   "source": [
    "# 打印学生列表循环\n",
    "# 如果是jingjing，那是我的最爱\n",
    "# 若果是别的学生，那要冷库的拒绝\n",
    "for name in ['zhangsan','lisi','wangwu','jingjing']:\n",
    "    print(name)\n",
    "    if name == \"jingjing\":\n",
    "        print(\"我的最爱{0}出现了\".format(name))\n",
    "    else :\n",
    "        print(\"同学我们不约，不约，同学请请请自重\")"
   ]
  },
  {
   "cell_type": "markdown",
   "metadata": {},
   "source": [
    "## range 生成一个数字序列\n",
    "- 生成一个数字序列\n",
    "- 具体范围可以设定\n",
    "- range(1,11),一到十的序列\n",
    "- 注意一般在 python中，如果表示数字范围的个数，一般是包好左边数字不包含右边的数字应该会是：[  )\n",
    "- range 在python2 和python中有都很大的区别\n"
   ]
  },
  {
   "cell_type": "code",
   "execution_count": 7,
   "metadata": {},
   "outputs": [
    {
     "name": "stdout",
     "output_type": "stream",
     "text": [
      "1\n",
      "2\n",
      "3\n",
      "4\n",
      "5\n",
      "6\n",
      "7\n",
      "8\n",
      "9\n",
      "10\n"
     ]
    }
   ],
   "source": [
    "for i in range(1,11):\n",
    "    print(i)"
   ]
  },
  {
   "cell_type": "markdown",
   "metadata": {},
   "source": [
    "## for - else语句\n",
    "- 当for循环结束的时候，就会执行一下else语句\n",
    "- else语句是可选语句"
   ]
  },
  {
   "cell_type": "code",
   "execution_count": 8,
   "metadata": {},
   "outputs": [
    {
     "name": "stdout",
     "output_type": "stream",
     "text": [
      "zhangsan\n",
      "同学我们不约，不约，同学请请请自重\n",
      "lisi\n",
      "同学我们不约，不约，同学请请请自重\n",
      "wangwu\n",
      "同学我们不约，不约，同学请请请自重\n",
      "jingjing\n",
      "我的最爱jingjing出现了\n",
      "别的都不是我的学生，不会再爱了\n"
     ]
    }
   ],
   "source": [
    "# for-else 语句\n",
    "# 打印列表中的同学\n",
    "# 如果没有在列表中，列表结束了，我们需要打印提示语句，表示不爱了\n",
    "# 如果是jingjing，那是我的最爱\n",
    "# 若果是别的学生，那要冷库的拒绝\n",
    "for name in ['zhangsan','lisi','wangwu','jingjing']:\n",
    "    print(name)\n",
    "    if name == \"jingjing\":\n",
    "        print(\"我的最爱{0}出现了\".format(name))\n",
    "    else :\n",
    "        print(\"同学我们不约，不约，同学请请请自重\")\n",
    "else:\n",
    "    print(\"别的都不是我的学生，不会再爱了\")\n",
    "\n",
    "\n"
   ]
  },
  {
   "cell_type": "markdown",
   "metadata": {},
   "source": [
    "## for循环之 break,continue,pass\n",
    "- break : 无条件结束整个循环，简称循环猝死\n",
    "- continue ：无条件结束本次循环，从新进入下一轮\n",
    "- 表示：表示略过，\n",
    "- for 循环中的变量表示一般用i,k,m,n,或者indx,idx,item之类\n",
    "- python中，如果循环变量名称不重要，可以用下划线（_）代替\n",
    "- pass "
   ]
  },
  {
   "cell_type": "code",
   "execution_count": 19,
   "metadata": {},
   "outputs": [
    {
     "name": "stdout",
     "output_type": "stream",
     "text": [
      "1\n",
      "2\n",
      "3\n",
      "4\n",
      "5\n",
      "6\n",
      "我找到了\n"
     ]
    }
   ],
   "source": [
    "# 在1-10的数字中，寻找数字7，一旦找到，打印出来，其余不做改变\n",
    "for i in range(1,11):\n",
    "    if i == 7:\n",
    "        print(\"我找到了\")\n",
    "        break\n",
    "    else:\n",
    "        print(i)\n",
    "    "
   ]
  },
  {
   "cell_type": "code",
   "execution_count": 20,
   "metadata": {},
   "outputs": [
    {
     "name": "stdout",
     "output_type": "stream",
     "text": [
      "2是偶数\n",
      "4是偶数\n",
      "6是偶数\n",
      "8是偶数\n",
      "10是偶数\n"
     ]
    }
   ],
   "source": [
    "# continue\n",
    "# 在1-10的数字中，寻找所有偶书，找到打印出来，其余不做改变\n",
    "for i in range(1,11):\n",
    "    if i % 2 == 1 :\n",
    "        continue\n",
    "    else:\n",
    "        print(\"{0}是偶数\".format(i))\n",
    "    "
   ]
  },
  {
   "cell_type": "code",
   "execution_count": 21,
   "metadata": {},
   "outputs": [
    {
     "name": "stdout",
     "output_type": "stream",
     "text": [
      "2是偶数\n",
      "4是偶数\n",
      "6是偶数\n",
      "8是偶数\n",
      "10是偶数\n"
     ]
    }
   ],
   "source": [
    "\n",
    "# 在1-10的数字中，寻找所有偶书，找到打印出来，其余不做改变\n",
    "for i in range(1,11):\n",
    "    if i % 2 == 0 :\n",
    "        print(\"{0}是偶数\".format(i))\n",
    "    "
   ]
  },
  {
   "cell_type": "code",
   "execution_count": 22,
   "metadata": {},
   "outputs": [
    {
     "name": "stdout",
     "output_type": "stream",
     "text": [
      "2是偶数\n",
      "4是偶数\n",
      "6是偶数\n",
      "8是偶数\n",
      "10是偶数\n"
     ]
    }
   ],
   "source": [
    "# continue\n",
    "# 在1-10的数字中，寻找所有偶书，找到打印出来，其余不做改变\n",
    "# 本次案例中完整显示continue的用法和作用\n",
    "for i in range(1,11):\n",
    "    if i % 2 == 1 :\n",
    "        continue\n",
    "    print(\"{0}是偶数\".format(i))\n",
    "    "
   ]
  },
  {
   "cell_type": "code",
   "execution_count": 26,
   "metadata": {},
   "outputs": [],
   "source": [
    "# pass例子，一般用于站位\n",
    "for i in range(1,11):\n",
    "    pass\n"
   ]
  },
  {
   "cell_type": "code",
   "execution_count": 27,
   "metadata": {},
   "outputs": [
    {
     "name": "stdout",
     "output_type": "stream",
     "text": [
      "1\n",
      "1\n",
      "1\n",
      "1\n",
      "1\n",
      "1\n",
      "1\n",
      "1\n",
      "1\n",
      "1\n"
     ]
    }
   ],
   "source": [
    "# pass例子，一般用于站位\n",
    "for i in range(1,11):\n",
    "    pass\n",
    "    print(1)"
   ]
  }
 ],
 "metadata": {
  "kernelspec": {
   "display_name": "Python 3",
   "language": "python",
   "name": "python3"
  },
  "language_info": {
   "codemirror_mode": {
    "name": "ipython",
    "version": 3
   },
   "file_extension": ".py",
   "mimetype": "text/x-python",
   "name": "python",
   "nbconvert_exporter": "python",
   "pygments_lexer": "ipython3",
   "version": "3.7.0"
  }
 },
 "nbformat": 4,
 "nbformat_minor": 2
}
