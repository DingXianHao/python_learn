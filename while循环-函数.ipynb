{
 "cells": [
  {
   "cell_type": "markdown",
   "metadata": {},
   "source": [
    "# while循环\n",
    "- 一个循环语句\n",
    "- 表示当某个条件成立的时候，就循环\n",
    "- 不知道具体循环次数，但是我知道循环成立的条件的时候用while循环\n",
    "- while语法\n",
    "    - while 条件表达式：\n",
    "        语句块\n",
    "        \n",
    "    - 另外一种表达式\n",
    "        while 条件表达式：\n",
    "            语句块\n",
    "        else :\n",
    "            语句（只执行一次）"
   ]
  },
  {
   "cell_type": "code",
   "execution_count": 6,
   "metadata": {},
   "outputs": [
    {
     "name": "stdout",
     "output_type": "stream",
     "text": [
      "第 1 年拿了 106700.0 块钱\n",
      "第 2 年拿了 113848.9 块钱\n",
      "第 3 年拿了 121476.77629999998 块钱\n",
      "第 4 年拿了 129615.72031209998 块钱\n",
      "第 5 年拿了 138299.97357301068 块钱\n",
      "第 6 年拿了 147566.07180240238 块钱\n",
      "第 7 年拿了 157452.99861316333 块钱\n",
      "第 8 年拿了 168002.34952024528 块钱\n",
      "第 9 年拿了 179258.5069381017 块钱\n",
      "第 10 年拿了 191268.8269029545 块钱\n",
      "第 11 年拿了 204083.83830545243 块钱\n"
     ]
    }
   ],
   "source": [
    "# 如果说年利率为6.7%，本利是每年翻滚，则多少年后本钱会翻倍\n",
    "benqian = 100000\n",
    "year = 0\n",
    "while benqian < 200000:\n",
    "    benqian = benqian * (1+0.067)\n",
    "    year +=1\n",
    "    print(\"第 {0} 年拿了 {1} 块钱\".format(year,benqian))"
   ]
  },
  {
   "cell_type": "code",
   "execution_count": 7,
   "metadata": {},
   "outputs": [
    {
     "name": "stdout",
     "output_type": "stream",
     "text": [
      "第 1 年拿了 106700.0 块钱\n",
      "第 2 年拿了 113848.9 块钱\n",
      "第 3 年拿了 121476.77629999998 块钱\n",
      "第 4 年拿了 129615.72031209998 块钱\n",
      "第 5 年拿了 138299.97357301068 块钱\n",
      "第 6 年拿了 147566.07180240238 块钱\n",
      "第 7 年拿了 157452.99861316333 块钱\n",
      "第 8 年拿了 168002.34952024528 块钱\n",
      "第 9 年拿了 179258.5069381017 块钱\n",
      "第 10 年拿了 191268.8269029545 块钱\n",
      "第 11 年拿了 204083.83830545243 块钱\n",
      "二大爷的，终于翻倍了，11 多年了\n"
     ]
    }
   ],
   "source": [
    "benqian = 100000\n",
    "year = 0\n",
    "while benqian < 200000:\n",
    "    benqian = benqian * (1+0.067)\n",
    "    year +=1\n",
    "    print(\"第 {0} 年拿了 {1} 块钱\".format(year,benqian))\n",
    "else:\n",
    "    print(\"二大爷的，终于翻倍了，{0} 年了\".format(year))"
   ]
  },
  {
   "cell_type": "markdown",
   "metadata": {},
   "source": [
    "# 函数\n",
    "- 代码的一种组织形式\n",
    "- 一个函数 一般完成一个项定的功能\n",
    "- 函数的使用\n",
    "    - 需要先定义\n",
    "    - 使用函数，俗称调用\n"
   ]
  },
  {
   "cell_type": "code",
   "execution_count": 8,
   "metadata": {},
   "outputs": [],
   "source": [
    "# 定义一个函数\n",
    "# 只是定义一个函数它不会执行\n",
    "# 1.def 定义关键字，后面跟着一个空格\n",
    "# 2.函数名，自己定义，需要遵循命名规则，不能使用大驼峰\n",
    "# 3.后面的括号和冒号不能省略，括号内可以有参数\n",
    "# 4.函数内所有代码缩进\n",
    "def fun():\n",
    "    print(\"我是一个函数\")\n",
    "    print(\"我要完成一项功能\")\n",
    "    print(\"我结束了\")"
   ]
  },
  {
   "cell_type": "code",
   "execution_count": 9,
   "metadata": {},
   "outputs": [
    {
     "name": "stdout",
     "output_type": "stream",
     "text": [
      "我是一个函数\n",
      "我要完成一项功能\n",
      "我结束了\n"
     ]
    }
   ],
   "source": [
    "# 调用函数\n",
    "# 直接函数名后面跟着一个括号\n",
    "fun()"
   ]
  },
  {
   "cell_type": "markdown",
   "metadata": {},
   "source": [
    "### 函数的返回值和参数\n",
    "- 参数：负责给函数传递一些必要的信息或者数据\n",
    "    - 形参（形式参数）：在函数定义的时候得到的参数没有具体的值，只是一个占位符\n",
    "    - 实际参数：在调用函数时候输入的值\n",
    "- 返回值：函数的执行结果\n",
    "    - 使用return关键字\n",
    "    - 如果没有return，默认返回一个None\n",
    "    - 函数一旦执行return语句，则无条件返回，即结束函数的执行\n",
    "    - "
   ]
  },
  {
   "cell_type": "code",
   "execution_count": 10,
   "metadata": {},
   "outputs": [
    {
     "name": "stdout",
     "output_type": "stream",
     "text": [
      "明月,你肿么哦了\n",
      "Sir,你不理我就走了\n"
     ]
    }
   ],
   "source": [
    "# 参数的定义和使用\n",
    "# 参数person 只是一个符号，代表的是调用时候的某个数据\n",
    "# 调用的时候会用p的值代替所有的person\n",
    "#\n",
    "def hello(person):\n",
    "    print(\"{0},你肿么哦了\".format(person))\n",
    "    print(\"Sir,你不理我就走了\")\n",
    "\n",
    "p = \"明月\"\n",
    "hello(p)"
   ]
  },
  {
   "cell_type": "code",
   "execution_count": 11,
   "metadata": {},
   "outputs": [
    {
     "name": "stdout",
     "output_type": "stream",
     "text": [
      "明月,你肿么哦了\n",
      "Sir,你不理我就走了\n",
      "我已经跟明月打过招呼了，明月不理我\n"
     ]
    }
   ],
   "source": [
    "# return 语句的基本使用\n",
    "# 打完招呼以后返回一句话\n",
    "def hello(person):\n",
    "    print(\"{0},你肿么哦了\".format(person))\n",
    "    print(\"Sir,你不理我就走了\")\n",
    "    return \"我已经跟{0}打过招呼了，{1}不理我\".format(person,person)\n",
    "p = \"明月\"\n",
    "rst = hello(p)\n",
    "print(rst)"
   ]
  },
  {
   "cell_type": "code",
   "execution_count": 11,
   "metadata": {},
   "outputs": [
    {
     "name": "stdout",
     "output_type": "stream",
     "text": [
      "明月,你肿么哦了\n",
      "哈哈哈，我提前结束了\n"
     ]
    }
   ],
   "source": [
    "# return案例2\n",
    "def hello(person):\n",
    "    print(\"{0},你肿么哦了\".format(person))\n",
    "    return \"哈哈哈，我提前结束了\"\n",
    "    print(\"Sir,你不理我就走了\")\n",
    "    return \"我已经跟{0}打过招呼了，{1}不理我\".format(person,person)\n",
    "p = \"明月\"\n",
    "rst = hello(p)\n",
    "print(rst)"
   ]
  },
  {
   "cell_type": "code",
   "execution_count": 13,
   "metadata": {},
   "outputs": [
    {
     "name": "stdout",
     "output_type": "stream",
     "text": [
      "Help on built-in function print in module builtins:\n",
      "\n",
      "print(...)\n",
      "    print(value, ..., sep=' ', end='\\n', file=sys.stdout, flush=False)\n",
      "    \n",
      "    Prints the values to a stream, or to sys.stdout by default.\n",
      "    Optional keyword arguments:\n",
      "    file:  a file-like object (stream); defaults to the current sys.stdout.\n",
      "    sep:   string inserted between values, default a space.\n",
      "    end:   string appended after the last value, default a newline.\n",
      "    flush: whether to forcibly flush the stream.\n",
      "\n"
     ]
    }
   ],
   "source": [
    "# 查找函数的帮助文档\n",
    "# 1、用help函数\n",
    "help(print)"
   ]
  },
  {
   "cell_type": "code",
   "execution_count": 20,
   "metadata": {},
   "outputs": [
    {
     "name": "stdout",
     "output_type": "stream",
     "text": [
      "1 *-*-*-*-*\n",
      "2 4 *-*-*-*-*\n",
      "3 6 9 *-*-*-*-*\n",
      "4 8 12 16 *-*-*-*-*\n",
      "5 10 15 20 25 *-*-*-*-*\n",
      "6 12 18 24 30 36 *-*-*-*-*\n",
      "7 14 21 28 35 42 49 *-*-*-*-*\n",
      "8 16 24 32 40 48 56 64 *-*-*-*-*\n",
      "9 18 27 36 45 54 63 72 81 *-*-*-*-*\n"
     ]
    }
   ],
   "source": [
    "# 九九乘法表\n",
    "# version\n",
    "\n",
    "for row in range(1,10):\n",
    "    # 打印一行\n",
    "    for col in range(1,row + 1):\n",
    "        # print 函数默认在任务打印完后换行\n",
    "        print (row * col,end = \" \")\n",
    "    print(\"*-*-*-*-*\")\n",
    "    "
   ]
  },
  {
   "cell_type": "code",
   "execution_count": 22,
   "metadata": {},
   "outputs": [
    {
     "name": "stdout",
     "output_type": "stream",
     "text": [
      "1 \n",
      "2 4 \n",
      "3 6 9 \n",
      "4 8 12 16 \n",
      "5 10 15 20 25 \n",
      "6 12 18 24 30 36 \n",
      "7 14 21 28 35 42 49 \n",
      "8 16 24 32 40 48 56 64 \n",
      "9 18 27 36 45 54 63 72 81 \n"
     ]
    }
   ],
   "source": [
    "# 定义一个好函数\n",
    "def printLine(row):\n",
    "    for col in range(1,row + 1):\n",
    "    # print 函数默认在任务打印完后换行\n",
    "        print (row * col,end = \" \")\n",
    "    print(\"\")\n",
    "for row in range(1,10):\n",
    "    printLine(row)"
   ]
  },
  {
   "cell_type": "markdown",
   "metadata": {},
   "source": [
    "## 参数详解\n",
    "- [参考资料](https://www.cnblogs.com/bingabcd/p/6671368.html)\n",
    "    - 有参数是参数位置必须在关键字参数的前面，但关键字参数之间不存在先后顺序的\n",
    "- 参数分离\n",
    "    - 普通参数\n",
    "    - 默认参数\n",
    "    - 关键字参数\n",
    "    - 收集参数\n",
    "- 普通参数\n",
    "    - C 参见上例\n",
    "    - 定义时候直接定义变量名\n",
    "    - 调用时候直接把变量或者放入指定位置\n",
    "                def 函数名 （参数1，参数2，参数3，...）:\n",
    "                   函数体\n",
    "                #调用 \n",
    "                函数名（value1，value2,....）\n",
    "                # 调用的时候，具体参考的位置，按位置赋值\n",
    "- 默认参数\n",
    "    - 形参带有默认值\n",
    "    - 调用时候直接把变量或者值放入指定位置\n",
    "                 \n",
    "                 def  func_name(p1=v1,p2=v2,....):\n",
    "                    func_block\n",
    "                 #调用1\n",
    "                 func_name()\n",
    "                 #调用\n",
    "                 value1=100\n",
    "                 value2=200\n",
    "                 func_name(value1,value2)\n",
    "- 关键字参数\n",
    "    - 语法\n",
    "                \n",
    "                def func(p1=v1,p2=v2,...):\n",
    "                   func_body\n",
    "                调用参数：\n",
    "                func（p1 = value1, p2 = value2,...）\n",
    "    - 比较麻烦，但有好处：\n",
    "        - 不容易混淆，一般实参和形参只考虑位置一一对应即可，容易出错\n",
    "        - 使用关键字参数，可以不考虑参数位置\n",
    "                "
   ]
  },
  {
   "cell_type": "code",
   "execution_count": 77,
   "metadata": {},
   "outputs": [
    {
     "name": "stdout",
     "output_type": "stream",
     "text": [
      "I am a student\n",
      "我叫 jingjing ,我今年 18，我住在丁显豪家\n",
      "I am a student\n",
      "我叫 jingjing ,我今年 18，我住在丁显豪家\n"
     ]
    }
   ],
   "source": [
    "def stu(name,age,addr):\n",
    "    print(\"I am a student\")\n",
    "    print(\"我叫 {0} ,我今年 {1}，我住在{2}\".format(name, age, addr))\n",
    "n = 'jingjing'\n",
    "a = 18\n",
    "add = '丁显豪家'\n",
    "stu(n,a,add)\n",
    "# 普通参数，只是按照位置传递，容易出错，\n",
    "def stu_key(name=\"No name\",age=0,addr=\"No addr\"):\n",
    "    print(\"I am a student\")\n",
    "    print(\"我叫 {0} ,我今年 {1}，我住在{2}\".format(name,age, addr))\n",
    "n = 'jingjing'\n",
    "a = 18\n",
    "add = '丁显豪家'\n",
    "stu_key(age=a, name=n, addr=add)"
   ]
  },
  {
   "cell_type": "markdown",
   "metadata": {},
   "source": [
    "### 收集参数\n",
    "- 把没有位置，不能＆定义是的参数位置相对应的参数，放入一个特定的数据结构中\n",
    "- 语法\n",
    "\n",
    "            def func(*args):\n",
    "               func_body\n",
    "            调用：\n",
    "            func(p1, p2, p3, ...)\n",
    "- 参数args不是必须这么写，（没有特殊原因强烈推荐这么写）\n",
    "- 参数名args前面需要加一个星号“*”表明是收集参数\n",
    "- 收集参数可以和其他参数并存"
   ]
  },
  {
   "cell_type": "code",
   "execution_count": 79,
   "metadata": {},
   "outputs": [
    {
     "name": "stdout",
     "output_type": "stream",
     "text": [
      "hello 大家好， 我自己我介绍一下，简单说两句： \n",
      "<class 'tuple'>\n",
      "Liuying\n",
      "18\n",
      "北京通州\n",
      "wangxianjing\n",
      "single\n",
      "hello 大家好， 我自己我介绍一下，简单说两句： \n",
      "<class 'tuple'>\n",
      "周大神\n",
      "hello 大家好， 我自己我介绍一下，简单说两句： \n",
      "<class 'tuple'>\n"
     ]
    }
   ],
   "source": [
    "# 收集参数\n",
    "# 函数模拟一个学生进行自我介绍，但是内容不清楚\n",
    "# args 把他看成一个列表list\n",
    "def stu( *args):\n",
    "    print(\"hello 大家好， 我自己我介绍一下，简单说两句： \")\n",
    "    # type 函数检测变量的类型\n",
    "    print(type(args))\n",
    "    for item in args:\n",
    "        print(item)\n",
    "\n",
    "stu(\"Liuying\", 18,\"北京通州\",\"wangxianjing\", \"single\" )\n",
    "stu(\"周大神\")\n",
    "# 收集参数可以不带认识实际参数调用，此时收集参数为空tuple\n",
    "stu()\n"
   ]
  },
  {
   "cell_type": "markdown",
   "metadata": {},
   "source": [
    "### 收集参数值关键字\n",
    "- 把关键字按照字典格式放入收集参数\n",
    "- 语法：\n",
    "\n",
    "                def func( **kwargs):\n",
    "                   func_body\n",
    "                # 调用\n",
    "                func(p1=v1, p2=va, p3=v3, ...)\n",
    "- kwargs 一般是约定俗称\n",
    "- 调用时候，把多余的关键字参数放入kwargs\n",
    "- 访问kwargs需要按照字典格式访问"
   ]
  },
  {
   "cell_type": "code",
   "execution_count": 2,
   "metadata": {},
   "outputs": [
    {
     "name": "stdout",
     "output_type": "stream",
     "text": [
      "Hello 大家好，我先自我介绍一下：\n",
      "<class 'dict'>\n",
      "name ---> liuying\n",
      "age ---> 19\n",
      "addr ---> 北京大通州\n",
      "lover ---> 王晓静\n",
      "work ---> Teacher\n",
      "********************\n",
      "Hello 大家好，我先自我介绍一下：\n",
      "<class 'dict'>\n",
      "name ---> 周大神\n"
     ]
    }
   ],
   "source": [
    "# 收集参数例子\n",
    "# 自我介绍\n",
    "# 调用的时候需要使用关键字参数调用\n",
    "def stu( **kwargs):\n",
    "    print(\"Hello 大家好，我先自我介绍一下：\")\n",
    "    print(type(kwargs))\n",
    "    # 对于字典的访问，Python2 和Python3 不一样\n",
    "    for k,v in kwargs.items():\n",
    "        print(k,\"--->\",v)\n",
    "stu(name=\"liuying\", age=19, addr=\"北京大通州\", lover=\"王晓静\", work=\"Teacher\")\n",
    "print(\"*\" * 20)\n",
    "stu(name=\"周大神\")"
   ]
  },
  {
   "cell_type": "code",
   "execution_count": 3,
   "metadata": {},
   "outputs": [
    {
     "name": "stdout",
     "output_type": "stream",
     "text": [
      "Hello 大家好，我先自我介绍一下：\n",
      "<class 'dict'>\n"
     ]
    }
   ],
   "source": [
    "# 收集参数可以为空案例\n",
    "stu()"
   ]
  },
  {
   "cell_type": "code",
   "execution_count": 65,
   "metadata": {},
   "outputs": [],
   "source": [
    "# 默认参数示例\n",
    "# 报名，需要知道学生性别\n",
    "# 学习Python的学生基本都是男生，所以，报名时时候没有特别的指定，我们认为就是男生\n",
    "def reg(name,age,gender = \"male\"):\n",
    "    if gender == \"male\":\n",
    "        print(\"{0} is {1}, and he is a good student\".format(name,age) )\n",
    "    else:\n",
    "        print(\"{0} is {1},and she is a good student\".format(name,age))"
   ]
  },
  {
   "cell_type": "markdown",
   "metadata": {},
   "source": [
    "reg (\"mingyue\",21)\n",
    "reg (\"xiaojing\",23,\"female\")"
   ]
  },
  {
   "cell_type": "code",
   "execution_count": 12,
   "metadata": {},
   "outputs": [
    {
     "name": "stdout",
     "output_type": "stream",
     "text": [
      "hello tanggu先生 ,welcome to python world！\n",
      "hello tanggu先生 ,welcome to python world！\n",
      "hello tanggu先生 ,welcome to python world！\n",
      "hello tanggu先生 ,welcome to python world！\n",
      "hello tanggu先生 ,welcome to python world！\n"
     ]
    }
   ],
   "source": [
    "def print_hello(name,sex):\n",
    "    sex_dict = {1:u'先生',2:u'女士'}\n",
    "    print ('hello {0}{1} ,welcome to python world！'.format(name ,sex_dict.get(sex,u'先生')))\n",
    "print_hello('tanggu',1)\n",
    "# 以下是用关键字参数正确调用函数的实例\n",
    "print_hello('tanggu', sex=1)\n",
    "print_hello(name='tanggu', sex=1)\n",
    "print_hello(sex=1, name='tanggu')\n",
    "# 以下是错误的调用方式\n",
    "# print_hello(name='tanggu', 1)\n",
    "# print_hello(sex=1, 'tanggu')"
   ]
  },
  {
   "cell_type": "markdown",
   "metadata": {},
   "source": [
    "#### 正确的默认参数定义方式--> 位置参数在前，默认参数在后\n",
    "def print_hello(name, sex=1):\n",
    "    ....\n",
    "\n",
    "#### 错误的定义方式\n",
    "def print_hello(sex=1, name):\n",
    "    ....\n",
    "\n",
    "#### 调用时不传sex的值，则使用默认值1\n",
    "#### print_hello('tanggu')\n",
    "\n",
    "#### 调用时传入sex的值，并指定为2\n",
    "#### print_hello('tanggu', 2)"
   ]
  },
  {
   "cell_type": "code",
   "execution_count": 18,
   "metadata": {},
   "outputs": [
    {
     "name": "stdout",
     "output_type": "stream",
     "text": [
      "woshi\n",
      "woshi\n",
      "woshi\n"
     ]
    }
   ],
   "source": [
    "# 定义函数时有时候不知道传递多少个参数，可用包裹（paking）位置参数/包裹关键字参数进行参数传递，会显得非常方便\n",
    "def func(*args):\n",
    "    print(\"woshi\")\n",
    "\n",
    "func()\n",
    "a=1\n",
    "func(a)\n",
    "b=2\n",
    "c=3\n",
    "func(a, b, c)"
   ]
  },
  {
   "cell_type": "code",
   "execution_count": null,
   "metadata": {},
   "outputs": [],
   "source": [
    "# 包裹关键字的传递\n",
    "def func(**kargs):\n",
    "    ....\n",
    "\n",
    "# func(a=1)\n",
    "# func(a=1, b=2, c=3)"
   ]
  },
  {
   "cell_type": "code",
   "execution_count": 59,
   "metadata": {},
   "outputs": [
    {
     "name": "stdout",
     "output_type": "stream",
     "text": [
      "tanggu 男\n",
      "{'name', '男', 'tanggu', 'sex'}\n"
     ]
    }
   ],
   "source": [
    "# *和**，也可以在调用函数时候使用，称之为解包裹 （unpacking）\n",
    "# 1、在传递元组时，让元组的每个元素对应一个位置参数\n",
    "def print_hello(name, sex):\n",
    "    print (name,sex)\n",
    "args = ('tanggu', '男')\n",
    "print_hello(*args)\n",
    "# 2、在传递字典和词典时，让字典的每个值作为一个关键字参数传递给函数\n",
    "def print_hello(kargs):\n",
    "    print (kargs)\n",
    "kargs = {'name', 'tanggu', 'sex', u'男'}\n",
    "print_hello(kargs)"
   ]
  },
  {
   "cell_type": "code",
   "execution_count": null,
   "metadata": {},
   "outputs": [],
   "source": []
  }
 ],
 "metadata": {
  "kernelspec": {
   "display_name": "Python 3",
   "language": "python",
   "name": "python3"
  },
  "language_info": {
   "codemirror_mode": {
    "name": "ipython",
    "version": 3
   },
   "file_extension": ".py",
   "mimetype": "text/x-python",
   "name": "python",
   "nbconvert_exporter": "python",
   "pygments_lexer": "ipython3",
   "version": "3.7.0"
  }
 },
 "nbformat": 4,
 "nbformat_minor": 2
}
